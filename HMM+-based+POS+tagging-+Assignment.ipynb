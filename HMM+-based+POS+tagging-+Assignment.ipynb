{
 "cells": [
  {
   "cell_type": "markdown",
   "metadata": {},
   "source": [
    "## POS tagging using modified Viterbi"
   ]
  },
  {
   "cell_type": "markdown",
   "metadata": {},
   "source": [
    "### Data Preparation"
   ]
  },
  {
   "cell_type": "code",
   "execution_count": 1,
   "metadata": {},
   "outputs": [],
   "source": [
    "#Importing libraries\n",
    "import nltk, re, pprint\n",
    "import numpy as np\n",
    "import pandas as pd\n",
    "import requests\n",
    "import matplotlib.pyplot as plt\n",
    "import seaborn as sns\n",
    "import pprint, time\n",
    "import random\n",
    "from sklearn.model_selection import train_test_split\n",
    "from nltk.tokenize import word_tokenize"
   ]
  },
  {
   "cell_type": "code",
   "execution_count": 2,
   "metadata": {},
   "outputs": [],
   "source": [
    "#nltk.download('universal_tagset')"
   ]
  },
  {
   "cell_type": "code",
   "execution_count": 3,
   "metadata": {},
   "outputs": [],
   "source": [
    "# reading the Treebank tagged sentences\n",
    "nltk_data = list(nltk.corpus.treebank.tagged_sents(tagset='universal'))"
   ]
  },
  {
   "cell_type": "code",
   "execution_count": 4,
   "metadata": {},
   "outputs": [
    {
     "name": "stdout",
     "output_type": "stream",
     "text": [
      "[[('Pierre', 'NOUN'), ('Vinken', 'NOUN'), (',', '.'), ('61', 'NUM'), ('years', 'NOUN'), ('old', 'ADJ'), (',', '.'), ('will', 'VERB'), ('join', 'VERB'), ('the', 'DET'), ('board', 'NOUN'), ('as', 'ADP'), ('a', 'DET'), ('nonexecutive', 'ADJ'), ('director', 'NOUN'), ('Nov.', 'NOUN'), ('29', 'NUM'), ('.', '.')], [('Mr.', 'NOUN'), ('Vinken', 'NOUN'), ('is', 'VERB'), ('chairman', 'NOUN'), ('of', 'ADP'), ('Elsevier', 'NOUN'), ('N.V.', 'NOUN'), (',', '.'), ('the', 'DET'), ('Dutch', 'NOUN'), ('publishing', 'VERB'), ('group', 'NOUN'), ('.', '.')], [('Rudolph', 'NOUN'), ('Agnew', 'NOUN'), (',', '.'), ('55', 'NUM'), ('years', 'NOUN'), ('old', 'ADJ'), ('and', 'CONJ'), ('former', 'ADJ'), ('chairman', 'NOUN'), ('of', 'ADP'), ('Consolidated', 'NOUN'), ('Gold', 'NOUN'), ('Fields', 'NOUN'), ('PLC', 'NOUN'), (',', '.'), ('was', 'VERB'), ('named', 'VERB'), ('*-1', 'X'), ('a', 'DET'), ('nonexecutive', 'ADJ'), ('director', 'NOUN'), ('of', 'ADP'), ('this', 'DET'), ('British', 'ADJ'), ('industrial', 'ADJ'), ('conglomerate', 'NOUN'), ('.', '.')], [('A', 'DET'), ('form', 'NOUN'), ('of', 'ADP'), ('asbestos', 'NOUN'), ('once', 'ADV'), ('used', 'VERB'), ('*', 'X'), ('*', 'X'), ('to', 'PRT'), ('make', 'VERB'), ('Kent', 'NOUN'), ('cigarette', 'NOUN'), ('filters', 'NOUN'), ('has', 'VERB'), ('caused', 'VERB'), ('a', 'DET'), ('high', 'ADJ'), ('percentage', 'NOUN'), ('of', 'ADP'), ('cancer', 'NOUN'), ('deaths', 'NOUN'), ('among', 'ADP'), ('a', 'DET'), ('group', 'NOUN'), ('of', 'ADP'), ('workers', 'NOUN'), ('exposed', 'VERB'), ('*', 'X'), ('to', 'PRT'), ('it', 'PRON'), ('more', 'ADV'), ('than', 'ADP'), ('30', 'NUM'), ('years', 'NOUN'), ('ago', 'ADP'), (',', '.'), ('researchers', 'NOUN'), ('reported', 'VERB'), ('0', 'X'), ('*T*-1', 'X'), ('.', '.')], [('The', 'DET'), ('asbestos', 'NOUN'), ('fiber', 'NOUN'), (',', '.'), ('crocidolite', 'NOUN'), (',', '.'), ('is', 'VERB'), ('unusually', 'ADV'), ('resilient', 'ADJ'), ('once', 'ADP'), ('it', 'PRON'), ('enters', 'VERB'), ('the', 'DET'), ('lungs', 'NOUN'), (',', '.'), ('with', 'ADP'), ('even', 'ADV'), ('brief', 'ADJ'), ('exposures', 'NOUN'), ('to', 'PRT'), ('it', 'PRON'), ('causing', 'VERB'), ('symptoms', 'NOUN'), ('that', 'DET'), ('*T*-1', 'X'), ('show', 'VERB'), ('up', 'PRT'), ('decades', 'NOUN'), ('later', 'ADJ'), (',', '.'), ('researchers', 'NOUN'), ('said', 'VERB'), ('0', 'X'), ('*T*-2', 'X'), ('.', '.')], [('Lorillard', 'NOUN'), ('Inc.', 'NOUN'), (',', '.'), ('the', 'DET'), ('unit', 'NOUN'), ('of', 'ADP'), ('New', 'ADJ'), ('York-based', 'ADJ'), ('Loews', 'NOUN'), ('Corp.', 'NOUN'), ('that', 'DET'), ('*T*-2', 'X'), ('makes', 'VERB'), ('Kent', 'NOUN'), ('cigarettes', 'NOUN'), (',', '.'), ('stopped', 'VERB'), ('using', 'VERB'), ('crocidolite', 'NOUN'), ('in', 'ADP'), ('its', 'PRON'), ('Micronite', 'NOUN'), ('cigarette', 'NOUN'), ('filters', 'NOUN'), ('in', 'ADP'), ('1956', 'NUM'), ('.', '.')], [('Although', 'ADP'), ('preliminary', 'ADJ'), ('findings', 'NOUN'), ('were', 'VERB'), ('reported', 'VERB'), ('*-2', 'X'), ('more', 'ADV'), ('than', 'ADP'), ('a', 'DET'), ('year', 'NOUN'), ('ago', 'ADP'), (',', '.'), ('the', 'DET'), ('latest', 'ADJ'), ('results', 'NOUN'), ('appear', 'VERB'), ('in', 'ADP'), ('today', 'NOUN'), (\"'s\", 'PRT'), ('New', 'NOUN'), ('England', 'NOUN'), ('Journal', 'NOUN'), ('of', 'ADP'), ('Medicine', 'NOUN'), (',', '.'), ('a', 'DET'), ('forum', 'NOUN'), ('likely', 'ADJ'), ('*', 'X'), ('to', 'PRT'), ('bring', 'VERB'), ('new', 'ADJ'), ('attention', 'NOUN'), ('to', 'PRT'), ('the', 'DET'), ('problem', 'NOUN'), ('.', '.')], [('A', 'DET'), ('Lorillard', 'NOUN'), ('spokewoman', 'NOUN'), ('said', 'VERB'), (',', '.'), ('``', '.'), ('This', 'DET'), ('is', 'VERB'), ('an', 'DET'), ('old', 'ADJ'), ('story', 'NOUN'), ('.', '.')], [('We', 'PRON'), (\"'re\", 'VERB'), ('talking', 'VERB'), ('about', 'ADP'), ('years', 'NOUN'), ('ago', 'ADP'), ('before', 'ADP'), ('anyone', 'NOUN'), ('heard', 'VERB'), ('of', 'ADP'), ('asbestos', 'NOUN'), ('having', 'VERB'), ('any', 'DET'), ('questionable', 'ADJ'), ('properties', 'NOUN'), ('.', '.')], [('There', 'DET'), ('is', 'VERB'), ('no', 'DET'), ('asbestos', 'NOUN'), ('in', 'ADP'), ('our', 'PRON'), ('products', 'NOUN'), ('now', 'ADV'), ('.', '.'), (\"''\", '.')], [('Neither', 'DET'), ('Lorillard', 'NOUN'), ('nor', 'CONJ'), ('the', 'DET'), ('researchers', 'NOUN'), ('who', 'PRON'), ('*T*-3', 'X'), ('studied', 'VERB'), ('the', 'DET'), ('workers', 'NOUN'), ('were', 'VERB'), ('aware', 'ADJ'), ('of', 'ADP'), ('any', 'DET'), ('research', 'NOUN'), ('on', 'ADP'), ('smokers', 'NOUN'), ('of', 'ADP'), ('the', 'DET'), ('Kent', 'NOUN'), ('cigarettes', 'NOUN'), ('.', '.')], [('``', '.'), ('We', 'PRON'), ('have', 'VERB'), ('no', 'DET'), ('useful', 'ADJ'), ('information', 'NOUN'), ('on', 'ADP'), ('whether', 'ADP'), ('users', 'NOUN'), ('are', 'VERB'), ('at', 'ADP'), ('risk', 'NOUN'), (',', '.'), (\"''\", '.'), ('said', 'VERB'), ('*T*-1', 'X'), ('James', 'NOUN'), ('A.', 'NOUN'), ('Talcott', 'NOUN'), ('of', 'ADP'), ('Boston', 'NOUN'), (\"'s\", 'PRT'), ('Dana-Farber', 'NOUN'), ('Cancer', 'NOUN'), ('Institute', 'NOUN'), ('.', '.')], [('Dr.', 'NOUN'), ('Talcott', 'NOUN'), ('led', 'VERB'), ('a', 'DET'), ('team', 'NOUN'), ('of', 'ADP'), ('researchers', 'NOUN'), ('from', 'ADP'), ('the', 'DET'), ('National', 'NOUN'), ('Cancer', 'NOUN'), ('Institute', 'NOUN'), ('and', 'CONJ'), ('the', 'DET'), ('medical', 'ADJ'), ('schools', 'NOUN'), ('of', 'ADP'), ('Harvard', 'NOUN'), ('University', 'NOUN'), ('and', 'CONJ'), ('Boston', 'NOUN'), ('University', 'NOUN'), ('.', '.')], [('The', 'DET'), ('Lorillard', 'NOUN'), ('spokeswoman', 'NOUN'), ('said', 'VERB'), ('0', 'X'), ('asbestos', 'NOUN'), ('was', 'VERB'), ('used', 'VERB'), ('*-1', 'X'), ('in', 'ADP'), ('``', '.'), ('very', 'ADV'), ('modest', 'ADJ'), ('amounts', 'NOUN'), (\"''\", '.'), ('in', 'ADP'), ('*', 'X'), ('making', 'VERB'), ('paper', 'NOUN'), ('for', 'ADP'), ('the', 'DET'), ('filters', 'NOUN'), ('in', 'ADP'), ('the', 'DET'), ('early', 'ADJ'), ('1950s', 'NUM'), ('and', 'CONJ'), ('replaced', 'VERB'), ('*-1', 'X'), ('with', 'ADP'), ('a', 'DET'), ('different', 'ADJ'), ('type', 'NOUN'), ('of', 'ADP'), ('filter', 'NOUN'), ('in', 'ADP'), ('1956', 'NUM'), ('.', '.')], [('From', 'ADP'), ('1953', 'NUM'), ('to', 'PRT'), ('1955', 'NUM'), (',', '.'), ('9.8', 'NUM'), ('billion', 'NUM'), ('Kent', 'NOUN'), ('cigarettes', 'NOUN'), ('with', 'ADP'), ('the', 'DET'), ('filters', 'NOUN'), ('were', 'VERB'), ('sold', 'VERB'), ('*-3', 'X'), (',', '.'), ('the', 'DET'), ('company', 'NOUN'), ('said', 'VERB'), ('0', 'X'), ('*T*-1', 'X'), ('.', '.')], [('Among', 'ADP'), ('33', 'NUM'), ('men', 'NOUN'), ('who', 'PRON'), ('*T*-4', 'X'), ('worked', 'VERB'), ('closely', 'ADV'), ('with', 'ADP'), ('the', 'DET'), ('substance', 'NOUN'), (',', '.'), ('28', 'NUM'), ('*ICH*-1', 'X'), ('have', 'VERB'), ('died', 'VERB'), ('--', '.'), ('more', 'ADJ'), ('than', 'ADP'), ('three', 'NUM'), ('times', 'NOUN'), ('the', 'DET'), ('expected', 'VERB'), ('number', 'NOUN'), ('.', '.')], [('Four', 'NUM'), ('of', 'ADP'), ('the', 'DET'), ('five', 'NUM'), ('surviving', 'VERB'), ('workers', 'NOUN'), ('have', 'VERB'), ('asbestos-related', 'ADJ'), ('diseases', 'NOUN'), (',', '.'), ('including', 'VERB'), ('three', 'NUM'), ('with', 'ADP'), ('recently', 'ADV'), ('diagnosed', 'VERB'), ('cancer', 'NOUN'), ('.', '.')], [('The', 'DET'), ('total', 'NOUN'), ('of', 'ADP'), ('18', 'NUM'), ('deaths', 'NOUN'), ('from', 'ADP'), ('malignant', 'ADJ'), ('mesothelioma', 'NOUN'), (',', '.'), ('lung', 'NOUN'), ('cancer', 'NOUN'), ('and', 'CONJ'), ('asbestosis', 'NOUN'), ('was', 'VERB'), ('far', 'ADV'), ('higher', 'ADJ'), ('than', 'ADP'), ('*', 'X'), ('expected', 'VERB'), ('*?*', 'X'), (',', '.'), ('the', 'DET'), ('researchers', 'NOUN'), ('said', 'VERB'), ('0', 'X'), ('*T*-1', 'X'), ('.', '.')], [('``', '.'), ('The', 'DET'), ('morbidity', 'NOUN'), ('rate', 'NOUN'), ('is', 'VERB'), ('a', 'DET'), ('striking', 'ADJ'), ('finding', 'NOUN'), ('among', 'ADP'), ('those', 'DET'), ('of', 'ADP'), ('us', 'PRON'), ('who', 'PRON'), ('*T*-5', 'X'), ('study', 'VERB'), ('asbestos-related', 'ADJ'), ('diseases', 'NOUN'), (',', '.'), (\"''\", '.'), ('said', 'VERB'), ('*T*-1', 'X'), ('Dr.', 'NOUN'), ('Talcott', 'NOUN'), ('.', '.')], [('The', 'DET'), ('percentage', 'NOUN'), ('of', 'ADP'), ('lung', 'NOUN'), ('cancer', 'NOUN'), ('deaths', 'NOUN'), ('among', 'ADP'), ('the', 'DET'), ('workers', 'NOUN'), ('at', 'ADP'), ('the', 'DET'), ('West', 'NOUN'), ('Groton', 'NOUN'), (',', '.'), ('Mass.', 'NOUN'), (',', '.'), ('paper', 'NOUN'), ('factory', 'NOUN'), ('appears', 'VERB'), ('*-1', 'X'), ('to', 'PRT'), ('be', 'VERB'), ('the', 'DET'), ('highest', 'ADJ'), ('for', 'ADP'), ('any', 'DET'), ('asbestos', 'NOUN'), ('workers', 'NOUN'), ('studied', 'VERB'), ('*', 'X'), ('in', 'ADP'), ('Western', 'ADJ'), ('industrialized', 'VERB'), ('countries', 'NOUN'), (',', '.'), ('he', 'PRON'), ('said', 'VERB'), ('0', 'X'), ('*T*-2', 'X'), ('.', '.')], [('The', 'DET'), ('plant', 'NOUN'), (',', '.'), ('which', 'DET'), ('*T*-1', 'X'), ('is', 'VERB'), ('owned', 'VERB'), ('*-4', 'X'), ('by', 'ADP'), ('Hollingsworth', 'NOUN'), ('&', 'CONJ'), ('Vose', 'NOUN'), ('Co.', 'NOUN'), (',', '.'), ('was', 'VERB'), ('under', 'ADP'), ('contract', 'NOUN'), ('*ICH*-2', 'X'), ('with', 'ADP'), ('Lorillard', 'NOUN'), ('*', 'X'), ('to', 'PRT'), ('make', 'VERB'), ('the', 'DET'), ('cigarette', 'NOUN'), ('filters', 'NOUN'), ('.', '.')], [('The', 'DET'), ('finding', 'NOUN'), ('probably', 'ADV'), ('will', 'VERB'), ('support', 'VERB'), ('those', 'DET'), ('who', 'PRON'), ('*T*-6', 'X'), ('argue', 'VERB'), ('that', 'ADP'), ('the', 'DET'), ('U.S.', 'NOUN'), ('should', 'VERB'), ('regulate', 'VERB'), ('the', 'DET'), ('class', 'NOUN'), ('of', 'ADP'), ('asbestos', 'NOUN'), ('including', 'VERB'), ('crocidolite', 'NOUN'), ('more', 'ADV'), ('stringently', 'ADV'), ('than', 'ADP'), ('the', 'DET'), ('common', 'ADJ'), ('kind', 'NOUN'), ('of', 'ADP'), ('asbestos', 'NOUN'), (',', '.'), ('chrysotile', 'NOUN'), (',', '.'), ('found', 'VERB'), ('*', 'X'), ('in', 'ADP'), ('most', 'ADJ'), ('schools', 'NOUN'), ('and', 'CONJ'), ('other', 'ADJ'), ('buildings', 'NOUN'), (',', '.'), ('Dr.', 'NOUN'), ('Talcott', 'NOUN'), ('said', 'VERB'), ('0', 'X'), ('*T*-1', 'X'), ('.', '.')], [('The', 'DET'), ('U.S.', 'NOUN'), ('is', 'VERB'), ('one', 'NUM'), ('of', 'ADP'), ('the', 'DET'), ('few', 'ADJ'), ('industrialized', 'VERB'), ('nations', 'NOUN'), ('that', 'DET'), ('*T*-7', 'X'), ('does', 'VERB'), (\"n't\", 'ADV'), ('have', 'VERB'), ('a', 'DET'), ('higher', 'ADJ'), ('standard', 'NOUN'), ('of', 'ADP'), ('regulation', 'NOUN'), ('for', 'ADP'), ('the', 'DET'), ('smooth', 'ADJ'), (',', '.'), ('needle-like', 'ADJ'), ('fibers', 'NOUN'), ('such', 'ADJ'), ('as', 'ADP'), ('crocidolite', 'NOUN'), ('that', 'DET'), ('*T*-1', 'X'), ('are', 'VERB'), ('classified', 'VERB'), ('*-5', 'X'), ('as', 'ADP'), ('amphobiles', 'NOUN'), (',', '.'), ('according', 'VERB'), ('to', 'PRT'), ('Brooke', 'NOUN'), ('T.', 'NOUN'), ('Mossman', 'NOUN'), (',', '.'), ('a', 'DET'), ('professor', 'NOUN'), ('of', 'ADP'), ('pathlogy', 'NOUN'), ('at', 'ADP'), ('the', 'DET'), ('University', 'NOUN'), ('of', 'ADP'), ('Vermont', 'NOUN'), ('College', 'NOUN'), ('of', 'ADP'), ('Medicine', 'NOUN'), ('.', '.')], [('More', 'ADV'), ('common', 'ADJ'), ('chrysotile', 'NOUN'), ('fibers', 'NOUN'), ('are', 'VERB'), ('curly', 'ADJ'), ('and', 'CONJ'), ('are', 'VERB'), ('more', 'ADV'), ('easily', 'ADV'), ('rejected', 'VERB'), ('*-1', 'X'), ('by', 'ADP'), ('the', 'DET'), ('body', 'NOUN'), (',', '.'), ('Dr.', 'NOUN'), ('Mossman', 'NOUN'), ('explained', 'VERB'), ('0', 'X'), ('*T*-2', 'X'), ('.', '.')], [('In', 'ADP'), ('July', 'NOUN'), (',', '.'), ('the', 'DET'), ('Environmental', 'NOUN'), ('Protection', 'NOUN'), ('Agency', 'NOUN'), ('imposed', 'VERB'), ('a', 'DET'), ('gradual', 'ADJ'), ('ban', 'NOUN'), ('on', 'ADP'), ('virtually', 'ADV'), ('all', 'DET'), ('uses', 'NOUN'), ('of', 'ADP'), ('asbestos', 'NOUN'), ('.', '.')], [('By', 'ADP'), ('1997', 'NUM'), (',', '.'), ('almost', 'ADV'), ('all', 'DET'), ('remaining', 'VERB'), ('uses', 'NOUN'), ('of', 'ADP'), ('cancer-causing', 'ADJ'), ('asbestos', 'NOUN'), ('will', 'VERB'), ('be', 'VERB'), ('outlawed', 'VERB'), ('*-6', 'X'), ('.', '.')], [('About', 'ADP'), ('160', 'NUM'), ('workers', 'NOUN'), ('at', 'ADP'), ('a', 'DET'), ('factory', 'NOUN'), ('that', 'DET'), ('*T*-8', 'X'), ('made', 'VERB'), ('paper', 'NOUN'), ('for', 'ADP'), ('the', 'DET'), ('Kent', 'NOUN'), ('filters', 'NOUN'), ('were', 'VERB'), ('exposed', 'VERB'), ('*-7', 'X'), ('to', 'PRT'), ('asbestos', 'NOUN'), ('in', 'ADP'), ('the', 'DET'), ('1950s', 'NUM'), ('.', '.')], [('Areas', 'NOUN'), ('of', 'ADP'), ('the', 'DET'), ('factory', 'NOUN'), ('*ICH*-2', 'X'), ('were', 'VERB'), ('particularly', 'ADV'), ('dusty', 'ADJ'), ('where', 'ADV'), ('the', 'DET'), ('crocidolite', 'NOUN'), ('was', 'VERB'), ('used', 'VERB'), ('*-8', 'X'), ('*T*-1', 'X'), ('.', '.')], [('Workers', 'NOUN'), ('dumped', 'VERB'), ('large', 'ADJ'), ('burlap', 'NOUN'), ('sacks', 'NOUN'), ('of', 'ADP'), ('the', 'DET'), ('imported', 'VERB'), ('material', 'NOUN'), ('into', 'ADP'), ('a', 'DET'), ('huge', 'ADJ'), ('bin', 'NOUN'), (',', '.'), ('poured', 'VERB'), ('in', 'PRT'), ('cotton', 'NOUN'), ('and', 'CONJ'), ('acetate', 'NOUN'), ('fibers', 'NOUN'), ('and', 'CONJ'), ('mechanically', 'ADV'), ('mixed', 'VERB'), ('the', 'DET'), ('dry', 'ADJ'), ('fibers', 'NOUN'), ('in', 'ADP'), ('a', 'DET'), ('process', 'NOUN'), ('used', 'VERB'), ('*', 'X'), ('*', 'X'), ('to', 'PRT'), ('make', 'VERB'), ('filters', 'NOUN'), ('.', '.')], [('Workers', 'NOUN'), ('described', 'VERB'), ('``', '.'), ('clouds', 'NOUN'), ('of', 'ADP'), ('blue', 'ADJ'), ('dust', 'NOUN'), (\"''\", '.'), ('that', 'DET'), ('*T*-1', 'X'), ('hung', 'VERB'), ('over', 'ADP'), ('parts', 'NOUN'), ('of', 'ADP'), ('the', 'DET'), ('factory', 'NOUN'), (',', '.'), ('even', 'ADV'), ('though', 'ADP'), ('exhaust', 'NOUN'), ('fans', 'NOUN'), ('ventilated', 'VERB'), ('the', 'DET'), ('area', 'NOUN'), ('.', '.')], [('``', '.'), ('There', 'DET'), (\"'s\", 'VERB'), ('no', 'DET'), ('question', 'NOUN'), ('that', 'ADP'), ('some', 'DET'), ('of', 'ADP'), ('those', 'DET'), ('workers', 'NOUN'), ('and', 'CONJ'), ('managers', 'NOUN'), ('contracted', 'VERB'), ('asbestos-related', 'ADJ'), ('diseases', 'NOUN'), (',', '.'), (\"''\", '.'), ('said', 'VERB'), ('*T*-1', 'X'), ('Darrell', 'NOUN'), ('Phillips', 'NOUN'), (',', '.'), ('vice', 'NOUN'), ('president', 'NOUN'), ('of', 'ADP'), ('human', 'ADJ'), ('resources', 'NOUN'), ('for', 'ADP'), ('Hollingsworth', 'NOUN'), ('&', 'CONJ'), ('Vose', 'NOUN'), ('.', '.')], [('``', '.'), ('But', 'CONJ'), ('you', 'PRON'), ('have', 'VERB'), ('*-1', 'X'), ('to', 'PRT'), ('recognize', 'VERB'), ('that', 'ADP'), ('these', 'DET'), ('events', 'NOUN'), ('took', 'VERB'), ('place', 'NOUN'), ('35', 'NUM'), ('years', 'NOUN'), ('ago', 'ADP'), ('.', '.')], [('It', 'PRON'), ('has', 'VERB'), ('no', 'DET'), ('bearing', 'NOUN'), ('on', 'ADP'), ('our', 'PRON'), ('work', 'NOUN'), ('force', 'NOUN'), ('today', 'NOUN'), ('.', '.')], [('Yields', 'NOUN'), ('on', 'ADP'), ('money-market', 'ADJ'), ('mutual', 'ADJ'), ('funds', 'NOUN'), ('continued', 'VERB'), ('*-1', 'X'), ('to', 'PRT'), ('slide', 'VERB'), (',', '.'), ('amid', 'ADP'), ('signs', 'NOUN'), ('that', 'ADP'), ('portfolio', 'NOUN'), ('managers', 'NOUN'), ('expect', 'VERB'), ('further', 'ADJ'), ('declines', 'NOUN'), ('in', 'ADP'), ('interest', 'NOUN'), ('rates', 'NOUN'), ('.', '.')], [('The', 'DET'), ('average', 'ADJ'), ('seven-day', 'ADJ'), ('compound', 'NOUN'), ('yield', 'NOUN'), ('of', 'ADP'), ('the', 'DET'), ('400', 'NUM'), ('taxable', 'ADJ'), ('funds', 'NOUN'), ('tracked', 'VERB'), ('*', 'X'), ('by', 'ADP'), ('IBC', 'NOUN'), (\"'s\", 'PRT'), ('Money', 'NOUN'), ('Fund', 'NOUN'), ('Report', 'NOUN'), ('eased', 'VERB'), ('a', 'DET'), ('fraction', 'NOUN'), ('of', 'ADP'), ('a', 'DET'), ('percentage', 'NOUN'), ('point', 'NOUN'), ('to', 'PRT'), ('8.45', 'NUM'), ('%', 'NOUN'), ('from', 'ADP'), ('8.47', 'NUM'), ('%', 'NOUN'), ('for', 'ADP'), ('the', 'DET'), ('week', 'NOUN'), ('ended', 'VERB'), ('Tuesday', 'NOUN'), ('.', '.')], [('Compound', 'NOUN'), ('yields', 'NOUN'), ('assume', 'VERB'), ('reinvestment', 'NOUN'), ('of', 'ADP'), ('dividends', 'NOUN'), ('and', 'CONJ'), ('that', 'ADP'), ('the', 'DET'), ('current', 'ADJ'), ('yield', 'NOUN'), ('continues', 'VERB'), ('for', 'ADP'), ('a', 'DET'), ('year', 'NOUN'), ('.', '.')], [('Average', 'ADJ'), ('maturity', 'NOUN'), ('of', 'ADP'), ('the', 'DET'), ('funds', 'NOUN'), (\"'\", 'PRT'), ('investments', 'NOUN'), ('lengthened', 'VERB'), ('by', 'ADP'), ('a', 'DET'), ('day', 'NOUN'), ('to', 'PRT'), ('41', 'NUM'), ('days', 'NOUN'), (',', '.'), ('the', 'DET'), ('longest', 'ADJ'), ('since', 'ADP'), ('early', 'ADJ'), ('August', 'NOUN'), (',', '.'), ('according', 'VERB'), ('to', 'PRT'), ('Donoghue', 'NOUN'), (\"'s\", 'PRT'), ('.', '.')], [('Longer', 'ADJ'), ('maturities', 'NOUN'), ('are', 'VERB'), ('thought', 'VERB'), ('*-1', 'X'), ('to', 'PRT'), ('indicate', 'VERB'), ('declining', 'VERB'), ('interest', 'NOUN'), ('rates', 'NOUN'), ('because', 'ADP'), ('they', 'PRON'), ('permit', 'VERB'), ('portfolio', 'NOUN'), ('managers', 'NOUN'), ('to', 'PRT'), ('retain', 'VERB'), ('relatively', 'ADV'), ('higher', 'ADJ'), ('rates', 'NOUN'), ('for', 'ADP'), ('a', 'DET'), ('longer', 'ADJ'), ('period', 'NOUN'), ('.', '.')], [('Shorter', 'ADJ'), ('maturities', 'NOUN'), ('are', 'VERB'), ('considered', 'VERB'), ('*-9', 'X'), ('a', 'DET'), ('sign', 'NOUN'), ('of', 'ADP'), ('rising', 'VERB'), ('rates', 'NOUN'), ('because', 'ADP'), ('portfolio', 'NOUN'), ('managers', 'NOUN'), ('can', 'VERB'), ('capture', 'VERB'), ('higher', 'ADJ'), ('rates', 'NOUN'), ('sooner', 'ADV'), ('.', '.')], [('The', 'DET'), ('average', 'ADJ'), ('maturity', 'NOUN'), ('for', 'ADP'), ('funds', 'NOUN'), ('open', 'ADJ'), ('only', 'ADV'), ('to', 'PRT'), ('institutions', 'NOUN'), (',', '.'), ('considered', 'VERB'), ('by', 'ADP'), ('some', 'DET'), ('*', 'X'), ('to', 'PRT'), ('be', 'VERB'), ('a', 'DET'), ('stronger', 'ADJ'), ('indicator', 'NOUN'), ('because', 'ADP'), ('those', 'DET'), ('managers', 'NOUN'), ('watch', 'VERB'), ('the', 'DET'), ('market', 'NOUN'), ('closely', 'ADV'), (',', '.'), ('reached', 'VERB'), ('a', 'DET'), ('high', 'ADJ'), ('point', 'NOUN'), ('for', 'ADP'), ('the', 'DET'), ('year', 'NOUN'), ('--', '.'), ('33', 'NUM'), ('days', 'NOUN'), ('.', '.')]]\n"
     ]
    }
   ],
   "source": [
    "print(nltk_data[:40])"
   ]
  },
  {
   "cell_type": "markdown",
   "metadata": {},
   "source": [
    "### Build the vanilla Viterbi based POS tagger"
   ]
  },
  {
   "cell_type": "code",
   "execution_count": 5,
   "metadata": {},
   "outputs": [
    {
     "name": "stdout",
     "output_type": "stream",
     "text": [
      "3718\n",
      "196\n",
      "[[('Still', 'ADV'), (',', '.'), ('scientists', 'NOUN'), ('breathed', 'VERB'), ('a', 'DET'), ('collective', 'ADJ'), ('sigh', 'NOUN'), ('of', 'ADP'), ('relief', 'NOUN'), ('about', 'ADP'), ('the', 'DET'), ('finding', 'NOUN'), (',', '.'), ('because', 'ADP'), ('it', 'PRON'), ('demonstrates', 'VERB'), ('how', 'ADV'), ('*', 'X'), ('to', 'PRT'), ('overcome', 'VERB'), ('the', 'DET'), ('``', '.'), ('flux', 'NOUN'), ('pinning', 'NOUN'), (\"''\", '.'), ('problem', 'NOUN'), ('that', 'ADP'), ('*T*-1', 'X'), ('earlier', 'ADV'), ('this', 'DET'), ('year', 'NOUN'), ('was', 'VERB'), ('widely', 'ADV'), ('publicized', 'VERB'), ('as', 'ADP'), ('*', 'X'), ('undercutting', 'VERB'), ('new', 'ADJ'), ('superconductors', 'NOUN'), (\"'\", 'PRT'), ('potential', 'NOUN'), ('*T*-2', 'X'), ('.', '.')], [('Faulding', 'NOUN'), ('said', 'VERB'), ('0', 'X'), ('it', 'PRON'), ('owns', 'VERB'), ('33', 'NUM'), ('%', 'NOUN'), ('of', 'ADP'), ('Moleculon', 'NOUN'), (\"'s\", 'PRT'), ('voting', 'NOUN'), ('stock', 'NOUN'), ('and', 'CONJ'), ('has', 'VERB'), ('an', 'DET'), ('agreement', 'NOUN'), ('*', 'X'), ('to', 'PRT'), ('acquire', 'VERB'), ('an', 'DET'), ('additional', 'ADJ'), ('19', 'NUM'), ('%', 'NOUN'), ('.', '.')], [('The', 'DET'), ('new', 'ADJ'), ('Wall', 'NOUN'), ('Street', 'NOUN'), ('of', 'ADP'), ('computers', 'NOUN'), ('and', 'CONJ'), ('automated', 'VERB'), ('trading', 'NOUN'), ('threatens', 'VERB'), ('*-1', 'X'), ('to', 'PRT'), ('make', 'VERB'), ('dinosaurs', 'NOUN'), ('of', 'ADP'), ('the', 'DET'), ('49', 'NUM'), ('Big', 'NOUN'), ('Board', 'NOUN'), ('stock-specialist', 'ADJ'), ('firms', 'NOUN'), ('.', '.')], [('The', 'DET'), ('report', 'NOUN'), ('offered', 'VERB'), ('new', 'ADJ'), ('evidence', 'NOUN'), ('that', 'ADP'), ('the', 'DET'), ('nation', 'NOUN'), (\"'s\", 'PRT'), ('export', 'NOUN'), ('growth', 'NOUN'), (',', '.'), ('though', 'ADP'), ('*-1', 'X'), ('still', 'ADV'), ('continuing', 'VERB'), (',', '.'), ('may', 'VERB'), ('be', 'VERB'), ('slowing', 'VERB'), ('.', '.')], [('The', 'DET'), ('last', 'ADJ'), ('thing', 'NOUN'), ('0', 'X'), ('they', 'PRON'), ('needed', 'VERB'), ('*T*-1', 'X'), ('was', 'VERB'), ('another', 'DET'), ('drag-down', 'ADJ'), ('blow', 'NOUN'), ('.', '.'), (\"''\", '.')], [('Heritage', 'NOUN'), ('owns', 'VERB'), ('and', 'CONJ'), ('operates', 'VERB'), ('television', 'NOUN'), ('and', 'CONJ'), ('radio', 'NOUN'), ('stations', 'NOUN'), ('and', 'CONJ'), ('in-store', 'ADJ'), ('advertising', 'NOUN'), ('and', 'CONJ'), ('promotion', 'NOUN'), ('programs', 'NOUN'), ('.', '.')], [('But', 'CONJ'), ('civilization', 'NOUN'), ('has', 'VERB'), ('moved', 'VERB'), ('forward', 'ADV'), ('since', 'ADP'), ('then', 'ADV'), ('.', '.')], [('Altogether', 'ADV'), (',', '.'), ('NBI', 'NOUN'), ('said', 'VERB'), ('0', 'X'), ('it', 'PRON'), ('will', 'VERB'), ('eliminate', 'VERB'), ('266', 'NUM'), ('jobs', 'NOUN'), ('at', 'ADP'), ('its', 'PRON'), ('Boulder', 'NOUN'), ('headquarters', 'NOUN'), (',', '.'), ('176', 'NUM'), ('field', 'NOUN'), ('sales', 'NOUN'), ('jobs', 'NOUN'), ('and', 'CONJ'), ('50', 'NUM'), ('jobs', 'NOUN'), ('at', 'ADP'), ('its', 'PRON'), ('Canadian', 'ADJ'), ('and', 'CONJ'), ('United', 'NOUN'), ('Kingdom', 'NOUN'), ('headquarters', 'NOUN'), ('.', '.')], [('Nekoosa', 'NOUN'), ('would', 'VERB'), (\"n't\", 'ADV'), ('be', 'VERB'), ('a', 'DET'), ('diversification', 'NOUN'), ('.', '.')], [('But', 'CONJ'), ('Ms.', 'NOUN'), ('Poore', 'NOUN'), (',', '.'), ('the', 'DET'), ('magazine', 'NOUN'), (\"'s\", 'PRT'), ('editor', 'NOUN'), ('and', 'CONJ'), ('publisher', 'NOUN'), (',', '.'), ('contends', 'VERB'), ('0', 'X'), ('Garbage', 'NOUN'), ('can', 'VERB'), ('survive', 'VERB'), (',', '.'), ('at', 'ADP'), ('least', 'ADJ'), ('initially', 'ADV'), (',', '.'), ('on', 'ADP'), ('subscription', 'NOUN'), ('revenues', 'NOUN'), ('.', '.')], [('Judge', 'NOUN'), ('Curry', 'NOUN'), ('ordered', 'VERB'), ('the', 'DET'), ('refunds', 'NOUN'), ('*-1', 'X'), ('to', 'PRT'), ('begin', 'VERB'), ('Feb.', 'NOUN'), ('1', 'NUM'), ('and', 'CONJ'), ('said', 'VERB'), ('that', 'ADP'), ('he', 'PRON'), ('would', 'VERB'), (\"n't\", 'ADV'), ('entertain', 'VERB'), ('any', 'DET'), ('appeals', 'NOUN'), ('or', 'CONJ'), ('other', 'ADJ'), ('attempts', 'NOUN'), ('*', 'X'), ('to', 'PRT'), ('block', 'VERB'), ('his', 'PRON'), ('order', 'NOUN'), ('by', 'ADP'), ('Commonwealth', 'NOUN'), ('Edison', 'NOUN'), ('.', '.')], [('The', 'DET'), ('U.S.', 'NOUN'), ('and', 'CONJ'), ('Soviet', 'NOUN'), ('Union', 'NOUN'), ('are', 'VERB'), ('holding', 'VERB'), ('technical', 'ADJ'), ('talks', 'NOUN'), ('about', 'ADP'), ('possible', 'ADJ'), ('repayment', 'NOUN'), ('by', 'ADP'), ('Moscow', 'NOUN'), ('of', 'ADP'), ('$', '.'), ('188', 'NUM'), ('million', 'NUM'), ('*U*', 'X'), ('in', 'ADP'), ('pre-Communist', 'ADJ'), ('Russian', 'ADJ'), ('debts', 'NOUN'), ('owed', 'VERB'), ('*', 'X'), ('to', 'PRT'), ('the', 'DET'), ('U.S.', 'NOUN'), ('government', 'NOUN'), (',', '.'), ('the', 'DET'), ('State', 'NOUN'), ('Department', 'NOUN'), ('said', 'VERB'), ('0', 'X'), ('*T*-2', 'X'), ('.', '.')], [('He', 'PRON'), ('adds', 'VERB'), (':', '.'), ('``', '.'), ('The', 'DET'), ('market', 'NOUN'), ('may', 'VERB'), ('be', 'VERB'), ('giving', 'VERB'), ('us', 'PRON'), ('another', 'DET'), ('message', 'NOUN'), (',', '.'), ('that', 'ADP'), ('a', 'DET'), ('recession', 'NOUN'), ('is', 'VERB'), ('looming', 'VERB'), ('.', '.'), (\"''\", '.')], [('The', 'DET'), ('purchasing', 'VERB'), ('managers', 'NOUN'), ('index', 'NOUN'), ('of', 'ADP'), ('economic', 'ADJ'), ('activity', 'NOUN'), ('rose', 'VERB'), ('in', 'ADP'), ('October', 'NOUN'), (',', '.'), ('although', 'ADP'), ('it', 'PRON'), ('remains', 'VERB'), ('below', 'ADP'), ('50', 'NUM'), ('%', 'NOUN'), ('.', '.')], [('If', 'ADP'), ('you', 'PRON'), (\"'d\", 'VERB'), ('really', 'ADV'), ('rather', 'ADV'), ('have', 'VERB'), ('a', 'DET'), ('Buick', 'NOUN'), (',', '.'), ('*', 'X'), ('do', 'VERB'), (\"n't\", 'ADV'), ('leave', 'VERB'), ('home', 'NOUN'), ('without', 'ADP'), ('the', 'DET'), ('American', 'NOUN'), ('Express', 'NOUN'), ('card', 'NOUN'), ('.', '.')], [('``', '.'), ('These', 'DET'), ('kids', 'NOUN'), ('broke', 'VERB'), ('my', 'PRON'), ('heart', 'NOUN'), (',', '.'), (\"''\", '.'), ('she', 'PRON'), ('says', 'VERB'), ('*T*-1', 'X'), ('.', '.')], [('It', 'PRON'), ('found', 'VERB'), ('that', 'ADP'), ('of', 'ADP'), ('the', 'DET'), ('73', 'NUM'), ('%', 'NOUN'), ('who', 'PRON'), ('*T*-51', 'X'), ('import', 'VERB'), (',', '.'), ('10', 'NUM'), ('%', 'NOUN'), ('*T*-1', 'X'), ('said', 'VERB'), ('0', 'X'), ('they', 'PRON'), ('imported', 'VERB'), ('more', 'ADV'), ('in', 'ADP'), ('October', 'NOUN'), ('and', 'CONJ'), ('12', 'NUM'), ('%', 'NOUN'), ('*T*-1', 'X'), ('said', 'VERB'), ('0', 'X'), ('they', 'PRON'), ('imported', 'VERB'), ('less', 'ADJ'), ('than', 'ADP'), ('the', 'DET'), ('previous', 'ADJ'), ('month', 'NOUN'), ('.', '.')], [('UAL', 'NOUN'), ('rose', 'VERB'), ('1', 'NUM'), ('1\\\\/2', 'NUM'), ('to', 'PRT'), ('177', 'NUM'), ('.', '.')], [('The', 'DET'), ('plant', 'NOUN'), ('will', 'VERB'), ('produce', 'VERB'), ('control', 'NOUN'), ('devices', 'NOUN'), ('used', 'VERB'), ('*', 'X'), ('in', 'ADP'), ('motor', 'NOUN'), ('vehicles', 'NOUN'), ('and', 'CONJ'), ('household', 'NOUN'), ('appliances', 'NOUN'), ('.', '.')], [('A', 'DET'), ('nickname', 'NOUN'), ('for', 'ADP'), ('measures', 'NOUN'), ('0', 'X'), ('*', 'X'), ('to', 'PRT'), ('stop', 'VERB'), ('the', 'DET'), ('market', 'NOUN'), ('from', 'ADP'), ('*-2', 'X'), ('plunging', 'VERB'), ('too', 'ADV'), ('far', 'ADV'), ('too', 'ADV'), ('fast', 'ADV'), ('*T*-1', 'X'), ('.', '.')], [('Mr.', 'NOUN'), ('van', 'NOUN'), ('Dover', 'NOUN'), ('said', 'VERB'), ('0', 'X'), ('the', 'DET'), ('AT&T', 'NOUN'), ('team', 'NOUN'), ('created', 'VERB'), ('the', 'DET'), ('desired', 'VERB'), ('crystal', 'NOUN'), ('changes', 'NOUN'), ('by', 'ADP'), ('*-2', 'X'), ('bombarding', 'VERB'), ('superconductor', 'NOUN'), ('samples', 'NOUN'), ('with', 'ADP'), ('neutrons', 'NOUN'), (',', '.'), ('a', 'DET'), ('process', 'NOUN'), ('that', 'DET'), ('*T*-1', 'X'), ('creates', 'VERB'), ('some', 'DET'), ('radioactivity', 'NOUN'), ('in', 'ADP'), ('the', 'DET'), ('samples', 'NOUN'), ('and', 'CONJ'), ('may', 'VERB'), ('not', 'ADV'), ('be', 'VERB'), ('feasible', 'ADJ'), ('for', 'ADP'), ('large-scale', 'ADJ'), ('commercial', 'ADJ'), ('use', 'NOUN'), ('.', '.')], [('Transamerica', 'NOUN'), ('Corp.', 'NOUN'), (',', '.'), ('San', 'NOUN'), ('Francisco', 'NOUN'), (',', '.'), ('said', 'VERB'), ('0', 'X'), ('third-quarter', 'NOUN'), ('profit', 'NOUN'), ('was', 'VERB'), ('essentially', 'ADV'), ('flat', 'ADJ'), ('despite', 'ADP'), ('a', 'DET'), ('large', 'ADJ'), ('one-time', 'ADJ'), ('gain', 'NOUN'), ('a', 'DET'), ('year', 'NOUN'), ('earlier', 'ADJ'), ('.', '.')], [('The', 'DET'), ('department', 'NOUN'), (\"'s\", 'PRT'), ('roof-crush', 'ADJ'), ('proposal', 'NOUN'), ('would', 'VERB'), ('apply', 'VERB'), ('to', 'PRT'), ('vehicles', 'NOUN'), ('weighing', 'VERB'), ('10,000', 'NUM'), ('pounds', 'NOUN'), ('or', 'CONJ'), ('less', 'ADJ'), ('.', '.')], [('In', 'ADP'), ('the', 'DET'), ('first', 'ADJ'), ('three', 'NUM'), ('months', 'NOUN'), ('of', 'ADP'), ('1990', 'NUM'), (',', '.'), ('the', 'DET'), ('Treasury', 'NOUN'), ('estimates', 'VERB'), ('that', 'ADP'), ('it', 'PRON'), ('will', 'VERB'), ('have', 'VERB'), ('*-1', 'X'), ('to', 'PRT'), ('raise', 'VERB'), ('between', 'ADP'), ('$', '.'), ('45', 'NUM'), ('billion', 'NUM'), ('and', 'CONJ'), ('$', '.'), ('50', 'NUM'), ('billion', 'NUM'), ('*U*', 'X'), (',', '.'), ('*', 'X'), ('assuming', 'VERB'), ('that', 'ADP'), ('it', 'PRON'), ('decides', 'VERB'), ('*-2', 'X'), ('to', 'PRT'), ('aim', 'VERB'), ('for', 'ADP'), ('a', 'DET'), ('$', '.'), ('10', 'NUM'), ('billion', 'NUM'), ('*U*', 'X'), ('cash', 'NOUN'), ('balance', 'NOUN'), ('at', 'ADP'), ('the', 'DET'), ('end', 'NOUN'), ('of', 'ADP'), ('March', 'NOUN'), ('.', '.')], [('He', 'PRON'), ('also', 'ADV'), ('said', 'VERB'), ('that', 'ADP'), ('the', 'DET'), ('group', 'NOUN'), ('reduced', 'VERB'), ('its', 'PRON'), ('offer', 'NOUN'), ('because', 'ADP'), ('it', 'PRON'), ('was', 'VERB'), (\"n't\", 'ADV'), ('allowed', 'VERB'), ('*-1', 'X'), ('to', 'PRT'), ('see', 'VERB'), ('Georgia', 'NOUN'), ('Gulf', 'NOUN'), (\"'s\", 'PRT'), ('confidential', 'ADJ'), ('financial', 'ADJ'), ('information', 'NOUN'), ('without', 'ADP'), ('*-2', 'X'), ('agreeing', 'VERB'), ('that', 'ADP'), ('it', 'PRON'), ('would', 'VERB'), (\"n't\", 'ADV'), ('make', 'VERB'), ('an', 'DET'), ('offer', 'NOUN'), ('unless', 'ADP'), ('it', 'PRON'), ('had', 'VERB'), ('Georgia', 'NOUN'), ('Gulf', 'NOUN'), (\"'s\", 'PRT'), ('consent', 'NOUN'), ('.', '.')], [('The', 'DET'), ('art', 'NOUN'), ('of', 'ADP'), ('change-ringing', 'NOUN'), ('is', 'VERB'), ('peculiar', 'ADJ'), ('to', 'PRT'), ('the', 'DET'), ('English', 'NOUN'), (',', '.'), ('and', 'CONJ'), (',', '.'), ('like', 'ADP'), ('most', 'ADJ'), ('English', 'ADJ'), ('peculiarities', 'NOUN'), (',', '.'), ('unintelligible', 'ADJ'), ('to', 'PRT'), ('the', 'DET'), ('rest', 'NOUN'), ('of', 'ADP'), ('the', 'DET'), ('world', 'NOUN'), ('.', '.')], [('Some', 'DET'), ('analysts', 'NOUN'), ('are', 'VERB'), ('worried', 'VERB'), ('that', 'ADP'), ('reports', 'NOUN'), ('of', 'ADP'), ('the', 'DET'), ('grain', 'NOUN'), ('industry', 'NOUN'), (\"'s\", 'PRT'), ('problems', 'NOUN'), ('might', 'VERB'), ('spark', 'VERB'), ('investors', 'NOUN'), ('to', 'PRT'), ('begin', 'VERB'), ('*-1', 'X'), ('buying', 'VERB'), ('corn', 'NOUN'), ('futures', 'NOUN'), ('contracts', 'NOUN'), ('--', '.'), ('*-2', 'X'), ('only', 'ADV'), ('to', 'PRT'), ('see', 'VERB'), ('little', 'ADJ'), ('appreciation', 'NOUN'), ('.', '.')], [('Mrs.', 'NOUN'), ('Yeargin', 'NOUN'), ('says', 'VERB'), ('that', 'ADP'), ('she', 'PRON'), ('also', 'ADV'), ('wanted', 'VERB'), ('*-1', 'X'), ('to', 'PRT'), ('help', 'VERB'), ('*-2', 'X'), ('lift', 'VERB'), ('Greenville', 'NOUN'), ('High', 'NOUN'), ('School', 'NOUN'), (\"'s\", 'PRT'), ('overall', 'ADJ'), ('test', 'NOUN'), ('scores', 'NOUN'), (',', '.'), ('usually', 'ADV'), ('near', 'ADP'), ('the', 'DET'), ('bottom', 'NOUN'), ('of', 'ADP'), ('14', 'NUM'), ('district', 'NOUN'), ('high', 'ADJ'), ('schools', 'NOUN'), ('in', 'ADP'), ('rankings', 'NOUN'), ('carried', 'VERB'), ('*', 'X'), ('annually', 'ADV'), ('by', 'ADP'), ('local', 'ADJ'), ('newspapers', 'NOUN'), ('.', '.')], [('Since', 'ADP'), ('the', 'DET'), ('reforms', 'NOUN'), ('went', 'VERB'), ('in', 'ADP'), ('place', 'NOUN'), (',', '.'), ('for', 'ADP'), ('example', 'NOUN'), (',', '.'), ('no', 'DET'), ('state', 'NOUN'), ('has', 'VERB'), ('posted', 'VERB'), ('a', 'DET'), ('higher', 'ADJ'), ('rate', 'NOUN'), ('of', 'ADP'), ('improvement', 'NOUN'), ('on', 'ADP'), ('the', 'DET'), ('Scholastic', 'NOUN'), ('Aptitude', 'NOUN'), ('Test', 'NOUN'), ('than', 'ADP'), ('South', 'NOUN'), ('Carolina', 'NOUN'), ('*?*', 'X'), (',', '.'), ('although', 'ADP'), ('the', 'DET'), ('state', 'NOUN'), ('still', 'ADV'), ('posts', 'VERB'), ('the', 'DET'), ('lowest', 'ADJ'), ('average', 'ADJ'), ('score', 'NOUN'), ('of', 'ADP'), ('the', 'DET'), ('about', 'ADP'), ('21', 'NUM'), ('states', 'NOUN'), ('who', 'PRON'), ('*T*-87', 'X'), ('use', 'VERB'), ('the', 'DET'), ('SAT', 'NOUN'), ('as', 'ADP'), ('the', 'DET'), ('primary', 'ADJ'), ('college', 'NOUN'), ('entrance', 'NOUN'), ('examination', 'NOUN'), ('.', '.')], [('The', 'DET'), ('rights', 'NOUN'), (',', '.'), ('which', 'DET'), ('*T*-173', 'X'), ('expire', 'VERB'), ('Nov.', 'NOUN'), ('21', 'NUM'), (',', '.'), ('can', 'VERB'), ('be', 'VERB'), ('exercised', 'VERB'), ('*-104', 'X'), ('for', 'ADP'), ('$', '.'), ('100', 'NUM'), ('*U*', 'X'), ('each', 'DET'), ('.', '.')], [('The', 'DET'), ('sad', 'ADJ'), ('reality', 'NOUN'), ('is', 'VERB'), ('that', 'ADP'), ('the', 'DET'), ('retail', 'ADJ'), ('investor', 'NOUN'), ('continues', 'VERB'), ('*-1', 'X'), ('to', 'PRT'), ('pursue', 'VERB'), ('stellar', 'ADJ'), ('performers', 'NOUN'), ('first', 'ADV'), (',', '.'), ('while', 'ADP'), ('*-2', 'X'), ('leaving', 'VERB'), ('institutions', 'NOUN'), ('to', 'PRT'), ('grapple', 'VERB'), ('with', 'ADP'), ('basis', 'NOUN'), ('points', 'NOUN'), ('of', 'ADP'), ('performance', 'NOUN'), ('on', 'ADP'), ('large', 'ADJ'), ('sums', 'NOUN'), ('of', 'ADP'), ('money', 'NOUN'), ('quarter', 'NOUN'), ('by', 'ADP'), ('quarter', 'NOUN'), ('*PPA*-3', 'X'), ('.', '.')], [('Some', 'DET'), ('Asian', 'ADJ'), ('nations', 'NOUN'), ('are', 'VERB'), ('apprehensive', 'ADJ'), ('about', 'ADP'), ('Washington', 'NOUN'), (\"'s\", 'PRT'), ('demand', 'NOUN'), ('that', 'ADP'), ('Tokyo', 'NOUN'), ('step', 'VERB'), ('up', 'PRT'), ('its', 'PRON'), ('military', 'ADJ'), ('spending', 'NOUN'), ('*-1', 'X'), ('to', 'PRT'), ('ease', 'VERB'), ('the', 'DET'), ('U.S.', 'NOUN'), ('security', 'NOUN'), ('burden', 'NOUN'), ('in', 'ADP'), ('the', 'DET'), ('region', 'NOUN'), ('.', '.')], [('They', 'PRON'), ('blamed', 'VERB'), ('increased', 'VERB'), ('demand', 'NOUN'), ('for', 'ADP'), ('dairy', 'NOUN'), ('products', 'NOUN'), ('at', 'ADP'), ('a', 'DET'), ('time', 'NOUN'), ('of', 'ADP'), ('exceptionally', 'ADV'), ('high', 'ADJ'), ('U.S.', 'NOUN'), ('exports', 'NOUN'), ('of', 'ADP'), ('dry', 'ADJ'), ('milk', 'NOUN'), (',', '.'), ('coupled', 'VERB'), ('*', 'X'), ('with', 'ADP'), ('very', 'ADV'), ('low', 'ADJ'), ('import', 'NOUN'), ('quotas', 'NOUN'), ('.', '.')], [('Dow', 'NOUN'), ('Jones', 'NOUN'), ('industrials', 'NOUN'), ('2645.90', 'NUM'), (',', '.'), ('up', 'ADV'), ('0.82', 'NUM'), (';', '.'), ('transportation', 'NOUN'), ('1206.26', 'NUM'), (',', '.'), ('up', 'ADV'), ('1.25', 'NUM'), (';', '.'), ('utilities', 'NOUN'), ('220.45', 'NUM'), (',', '.'), ('up', 'ADV'), ('1.26', 'NUM'), ('.', '.')], [('The', 'DET'), ('U.S.S.R.', 'NOUN'), ('belongs', 'VERB'), ('to', 'PRT'), ('neither', 'DET'), ('organization', 'NOUN'), ('.', '.')], [('Arbitrage', 'NOUN'), ('does', 'VERB'), (\"n't\", 'ADV'), ('cause', 'VERB'), ('volatility', 'NOUN'), (';', '.'), ('it', 'PRON'), ('responds', 'VERB'), ('to', 'PRT'), ('it', 'PRON'), ('.', '.')], [('Among', 'ADP'), ('other', 'ADJ'), ('banking', 'NOUN'), ('issues', 'NOUN'), (',', '.'), ('Pennview', 'NOUN'), ('Savings', 'NOUN'), ('Association', 'NOUN'), ('leapt', 'VERB'), ('more', 'ADJ'), ('than', 'ADP'), ('44', 'NUM'), ('%', 'NOUN'), ('with', 'ADP'), ('a', 'DET'), ('gain', 'NOUN'), ('of', 'ADP'), ('6', 'NUM'), ('5\\\\/8', 'NUM'), ('to', 'PRT'), ('21', 'NUM'), ('5\\\\/8', 'NUM'), ('.', '.')], [('``', '.'), ('They', 'PRON'), ('said', 'VERB'), ('universally', 'ADV'), (',', '.'), ('without', 'ADP'), ('a', 'DET'), ('single', 'ADJ'), ('exception', 'NOUN'), (':', '.'), ('*', 'X'), ('Do', 'VERB'), (\"n't\", 'ADV'), ('even', 'ADV'), ('compromise', 'VERB'), ('.', '.')], [('The', 'DET'), ('company', 'NOUN'), ('said', 'VERB'), ('0', 'X'), ('local', 'ADJ'), ('authorities', 'NOUN'), ('held', 'VERB'), ('hearings', 'NOUN'), ('on', 'ADP'), ('the', 'DET'), ('allegations', 'NOUN'), ('last', 'ADJ'), ('spring', 'NOUN'), ('and', 'CONJ'), ('had', 'VERB'), ('returned', 'VERB'), ('the', 'DET'), ('plant', 'NOUN'), ('to', 'PRT'), ('``', '.'), ('routine', 'ADJ'), ('inspection', 'NOUN'), (\"''\", '.'), ('in', 'ADP'), ('August', 'NOUN'), ('.', '.')], [('*', 'X'), ('Adopting', 'VERB'), ('a', 'DET'), ('training-wage', 'ADJ'), ('policy', 'NOUN'), ('means', 'VERB'), ('``', '.'), ('*', 'X'), ('getting', 'VERB'), ('beyond', 'ADP'), ('the', 'DET'), ('nickel', 'NOUN'), ('and', 'CONJ'), ('diming', 'NOUN'), ('of', 'ADP'), ('the', 'DET'), ('minimum', 'ADJ'), ('wage', 'NOUN'), (',', '.'), (\"''\", '.'), ('Mrs.', 'NOUN'), ('Roukema', 'NOUN'), ('said', 'VERB'), ('0', 'X'), ('*T*-1', 'X'), ('.', '.')]]\n"
     ]
    }
   ],
   "source": [
    "# Splitting into train and test\n",
    "train_set, test_set = train_test_split(nltk_data,test_size=0.05)\n",
    "\n",
    "print(len(train_set))\n",
    "print(len(test_set))\n",
    "print(train_set[:40])"
   ]
  },
  {
   "cell_type": "code",
   "execution_count": 6,
   "metadata": {},
   "outputs": [
    {
     "name": "stdout",
     "output_type": "stream",
     "text": [
      "Train Tagged Words -  96068\n"
     ]
    }
   ],
   "source": [
    "# Getting list of tagged words for both Train and Test\n",
    "train_tagged_words = [wrd for x in train_set for wrd in x]\n",
    "print(\"Train Tagged Words - \", len(train_tagged_words))"
   ]
  },
  {
   "cell_type": "code",
   "execution_count": 7,
   "metadata": {},
   "outputs": [
    {
     "name": "stdout",
     "output_type": "stream",
     "text": [
      "Test Tagged Words -  4608\n"
     ]
    }
   ],
   "source": [
    "test_tagged_words = [wrd[0] for x in test_set for wrd in x]\n",
    "print(\"Test Tagged Words - \", len(test_tagged_words))"
   ]
  },
  {
   "cell_type": "code",
   "execution_count": 8,
   "metadata": {},
   "outputs": [
    {
     "data": {
      "text/plain": [
       "['Still',\n",
       " ',',\n",
       " 'scientists',\n",
       " 'breathed',\n",
       " 'a',\n",
       " 'collective',\n",
       " 'sigh',\n",
       " 'of',\n",
       " 'relief',\n",
       " 'about']"
      ]
     },
     "execution_count": 8,
     "metadata": {},
     "output_type": "execute_result"
    }
   ],
   "source": [
    "# tokens \n",
    "tokens = [pair[0] for pair in train_tagged_words]\n",
    "tokens[:10]"
   ]
  },
  {
   "cell_type": "code",
   "execution_count": 9,
   "metadata": {},
   "outputs": [
    {
     "data": {
      "text/plain": [
       "['ADV', '.', 'NOUN', 'VERB', 'DET', 'ADJ', 'NOUN', 'ADP', 'NOUN', 'ADP']"
      ]
     },
     "execution_count": 9,
     "metadata": {},
     "output_type": "execute_result"
    }
   ],
   "source": [
    "#POS tags in Train set\n",
    "train_pos_tokens = [tag[1] for tag in train_tagged_words]\n",
    "train_pos_tokens[:10]"
   ]
  },
  {
   "cell_type": "code",
   "execution_count": 10,
   "metadata": {},
   "outputs": [
    {
     "name": "stdout",
     "output_type": "stream",
     "text": [
      "12132\n"
     ]
    }
   ],
   "source": [
    "# vocabulary\n",
    "V = set(tokens)\n",
    "print(len(V))"
   ]
  },
  {
   "cell_type": "code",
   "execution_count": 11,
   "metadata": {},
   "outputs": [
    {
     "data": {
      "text/plain": [
       "12"
      ]
     },
     "execution_count": 11,
     "metadata": {},
     "output_type": "execute_result"
    }
   ],
   "source": [
    "# number of tags\n",
    "T = set([pair[1] for pair in train_tagged_words])\n",
    "len(T)"
   ]
  },
  {
   "cell_type": "code",
   "execution_count": 12,
   "metadata": {},
   "outputs": [
    {
     "name": "stdout",
     "output_type": "stream",
     "text": [
      "{'CONJ', '.', 'PRON', 'NUM', 'PRT', 'VERB', 'DET', 'NOUN', 'ADP', 'ADJ', 'X', 'ADV'}\n"
     ]
    }
   ],
   "source": [
    "print(T)"
   ]
  },
  {
   "cell_type": "markdown",
   "metadata": {},
   "source": [
    "### Emission Probabilities"
   ]
  },
  {
   "cell_type": "code",
   "execution_count": 13,
   "metadata": {},
   "outputs": [],
   "source": [
    "# computing P(w/t) and storing in T x V matrix\n",
    "t = len(T)\n",
    "v = len(V)\n",
    "w_given_t = np.zeros((t, v))"
   ]
  },
  {
   "cell_type": "code",
   "execution_count": 14,
   "metadata": {},
   "outputs": [],
   "source": [
    "# compute word given tag: Emission Probability\n",
    "def word_given_tag(word, tag, train_bag = train_tagged_words):\n",
    "    tag_list = [pair for pair in train_bag if pair[1]==tag]\n",
    "    count_tag = len(tag_list)\n",
    "    w_given_tag_list = [pair[0] for pair in tag_list if pair[0]==word]\n",
    "    count_w_given_tag = len(w_given_tag_list)\n",
    "    \n",
    "    return (count_w_given_tag, count_tag)"
   ]
  },
  {
   "cell_type": "markdown",
   "metadata": {},
   "source": [
    "### Transition Probabilities"
   ]
  },
  {
   "cell_type": "code",
   "execution_count": 15,
   "metadata": {},
   "outputs": [],
   "source": [
    "# compute tag given tag: tag2(t2) given tag1 (t1), i.e. Transition Probability\n",
    "\n",
    "def t2_given_t1(t2, t1, train_bag = train_tagged_words):\n",
    "    tags = [pair[1] for pair in train_bag]\n",
    "    count_t1 = len([t for t in tags if t==t1])\n",
    "    count_t2_t1 = 0\n",
    "    for index in range(len(tags)-1):\n",
    "        if tags[index]==t1 and tags[index+1] == t2:\n",
    "            count_t2_t1 += 1\n",
    "    return (count_t2_t1, count_t1)"
   ]
  },
  {
   "cell_type": "code",
   "execution_count": 16,
   "metadata": {},
   "outputs": [],
   "source": [
    "# creating t x t transition matrix of tags\n",
    "# each column is t2, each row is t1\n",
    "# thus M(i, j) represents P(tj given ti)\n",
    "\n",
    "tags_matrix = np.zeros((len(T), len(T)), dtype='float32')\n",
    "for i, t1 in enumerate(list(T)):\n",
    "    for j, t2 in enumerate(list(T)): \n",
    "        tags_matrix[i, j] = t2_given_t1(t2, t1)[0]/t2_given_t1(t2, t1)[1]"
   ]
  },
  {
   "cell_type": "code",
   "execution_count": 17,
   "metadata": {},
   "outputs": [
    {
     "data": {
      "text/plain": [
       "array([[4.59347735e-04, 3.44510786e-02, 5.78778125e-02, 4.18006442e-02,\n",
       "        5.05282497e-03, 1.57556266e-01, 1.21267803e-01, 3.49563628e-01,\n",
       "        5.28249890e-02, 1.16214976e-01, 8.26825947e-03, 5.46623804e-02],\n",
       "       [5.77920899e-02, 9.43818241e-02, 6.59330860e-02, 8.05152953e-02,\n",
       "        2.41545890e-03, 8.89246762e-02, 1.73286811e-01, 2.22222224e-01,\n",
       "        9.04455185e-02, 4.41044904e-02, 2.71068178e-02, 5.27822524e-02],\n",
       "       [5.37634408e-03, 3.95545326e-02, 8.06451589e-03, 7.29646720e-03,\n",
       "        1.19047621e-02, 4.86943156e-01, 9.98463947e-03, 2.06989244e-01,\n",
       "        2.38095243e-02, 7.25806430e-02, 9.40860212e-02, 3.34101394e-02],\n",
       "       [1.33412397e-02, 1.17106430e-01, 1.48235995e-03, 1.85887933e-01,\n",
       "        2.69789509e-02, 1.86777357e-02, 3.26119177e-03, 3.51319313e-01,\n",
       "        3.46872211e-02, 3.35013345e-02, 2.10791573e-01, 2.96471990e-03],\n",
       "       [2.26537208e-03, 4.14239466e-02, 1.81229766e-02, 5.63106798e-02,\n",
       "        1.94174761e-03, 4.01618123e-01, 1.02265373e-01, 2.47896433e-01,\n",
       "        2.10355986e-02, 8.34951475e-02, 1.35922330e-02, 1.00323623e-02],\n",
       "       [5.41376648e-03, 3.48801240e-02, 3.54988389e-02, 2.28151586e-02,\n",
       "        3.11678275e-02, 1.68522820e-01, 1.33255988e-01, 1.11136891e-01,\n",
       "        9.23433900e-02, 6.48105145e-02, 2.18406811e-01, 8.17478746e-02],\n",
       "       [4.80711460e-04, 1.76661462e-02, 3.60533595e-03, 2.15118378e-02,\n",
       "        2.40355730e-04, 3.96586955e-02, 5.52818179e-03, 6.37904108e-01,\n",
       "        9.37387347e-03, 2.05504149e-01, 4.57877666e-02, 1.27388537e-02],\n",
       "       [4.31769527e-02, 2.40013063e-01, 4.82565956e-03, 9.17963777e-03,\n",
       "        4.43017296e-02, 1.46148548e-01, 1.33159170e-02, 2.64794469e-01,\n",
       "        1.76082149e-01, 1.21911401e-02, 2.91716550e-02, 1.67990997e-02],\n",
       "       [8.52151657e-04, 3.89859378e-02, 6.82786554e-02, 6.27396703e-02,\n",
       "        1.38474652e-03, 8.20195954e-03, 3.24776322e-01, 3.22432905e-01,\n",
       "        1.69365145e-02, 1.06518961e-01, 3.50447372e-02, 1.38474647e-02],\n",
       "       [1.75813343e-02, 6.42458126e-02, 6.57246157e-04, 2.15248112e-02,\n",
       "        1.11731840e-02, 1.15018077e-02, 4.60072281e-03, 7.00460076e-01,\n",
       "        7.68978000e-02, 6.57246113e-02, 2.08675656e-02, 4.76503465e-03],\n",
       "       [1.01073906e-02, 1.63771316e-01, 5.46430834e-02, 2.68477574e-03,\n",
       "        1.85249522e-01, 2.04516739e-01, 5.48010096e-02, 6.26974106e-02,\n",
       "        1.43556535e-01, 1.65824387e-02, 7.51737207e-02, 2.62160450e-02],\n",
       "       [6.93527097e-03, 1.37054160e-01, 1.51915457e-02, 3.23645957e-02,\n",
       "        1.45310434e-02, 3.44121546e-01, 6.83619529e-02, 3.17040943e-02,\n",
       "        1.17899604e-01, 1.29128143e-01, 2.37780716e-02, 7.89299831e-02]],\n",
       "      dtype=float32)"
      ]
     },
     "execution_count": 17,
     "metadata": {},
     "output_type": "execute_result"
    }
   ],
   "source": [
    "tags_matrix"
   ]
  },
  {
   "cell_type": "code",
   "execution_count": 18,
   "metadata": {},
   "outputs": [],
   "source": [
    "# convert the matrix to a df for better readability\n",
    "tags_df = pd.DataFrame(tags_matrix, columns = list(T), index=list(T))"
   ]
  },
  {
   "cell_type": "code",
   "execution_count": 19,
   "metadata": {},
   "outputs": [
    {
     "data": {
      "text/html": [
       "<div>\n",
       "<style scoped>\n",
       "    .dataframe tbody tr th:only-of-type {\n",
       "        vertical-align: middle;\n",
       "    }\n",
       "\n",
       "    .dataframe tbody tr th {\n",
       "        vertical-align: top;\n",
       "    }\n",
       "\n",
       "    .dataframe thead th {\n",
       "        text-align: right;\n",
       "    }\n",
       "</style>\n",
       "<table border=\"1\" class=\"dataframe\">\n",
       "  <thead>\n",
       "    <tr style=\"text-align: right;\">\n",
       "      <th></th>\n",
       "      <th>CONJ</th>\n",
       "      <th>.</th>\n",
       "      <th>PRON</th>\n",
       "      <th>NUM</th>\n",
       "      <th>PRT</th>\n",
       "      <th>VERB</th>\n",
       "      <th>DET</th>\n",
       "      <th>NOUN</th>\n",
       "      <th>ADP</th>\n",
       "      <th>ADJ</th>\n",
       "      <th>X</th>\n",
       "      <th>ADV</th>\n",
       "    </tr>\n",
       "  </thead>\n",
       "  <tbody>\n",
       "    <tr>\n",
       "      <th>CONJ</th>\n",
       "      <td>0.000459</td>\n",
       "      <td>0.034451</td>\n",
       "      <td>0.057878</td>\n",
       "      <td>0.041801</td>\n",
       "      <td>0.005053</td>\n",
       "      <td>0.157556</td>\n",
       "      <td>0.121268</td>\n",
       "      <td>0.349564</td>\n",
       "      <td>0.052825</td>\n",
       "      <td>0.116215</td>\n",
       "      <td>0.008268</td>\n",
       "      <td>0.054662</td>\n",
       "    </tr>\n",
       "    <tr>\n",
       "      <th>.</th>\n",
       "      <td>0.057792</td>\n",
       "      <td>0.094382</td>\n",
       "      <td>0.065933</td>\n",
       "      <td>0.080515</td>\n",
       "      <td>0.002415</td>\n",
       "      <td>0.088925</td>\n",
       "      <td>0.173287</td>\n",
       "      <td>0.222222</td>\n",
       "      <td>0.090446</td>\n",
       "      <td>0.044104</td>\n",
       "      <td>0.027107</td>\n",
       "      <td>0.052782</td>\n",
       "    </tr>\n",
       "    <tr>\n",
       "      <th>PRON</th>\n",
       "      <td>0.005376</td>\n",
       "      <td>0.039555</td>\n",
       "      <td>0.008065</td>\n",
       "      <td>0.007296</td>\n",
       "      <td>0.011905</td>\n",
       "      <td>0.486943</td>\n",
       "      <td>0.009985</td>\n",
       "      <td>0.206989</td>\n",
       "      <td>0.023810</td>\n",
       "      <td>0.072581</td>\n",
       "      <td>0.094086</td>\n",
       "      <td>0.033410</td>\n",
       "    </tr>\n",
       "    <tr>\n",
       "      <th>NUM</th>\n",
       "      <td>0.013341</td>\n",
       "      <td>0.117106</td>\n",
       "      <td>0.001482</td>\n",
       "      <td>0.185888</td>\n",
       "      <td>0.026979</td>\n",
       "      <td>0.018678</td>\n",
       "      <td>0.003261</td>\n",
       "      <td>0.351319</td>\n",
       "      <td>0.034687</td>\n",
       "      <td>0.033501</td>\n",
       "      <td>0.210792</td>\n",
       "      <td>0.002965</td>\n",
       "    </tr>\n",
       "    <tr>\n",
       "      <th>PRT</th>\n",
       "      <td>0.002265</td>\n",
       "      <td>0.041424</td>\n",
       "      <td>0.018123</td>\n",
       "      <td>0.056311</td>\n",
       "      <td>0.001942</td>\n",
       "      <td>0.401618</td>\n",
       "      <td>0.102265</td>\n",
       "      <td>0.247896</td>\n",
       "      <td>0.021036</td>\n",
       "      <td>0.083495</td>\n",
       "      <td>0.013592</td>\n",
       "      <td>0.010032</td>\n",
       "    </tr>\n",
       "    <tr>\n",
       "      <th>VERB</th>\n",
       "      <td>0.005414</td>\n",
       "      <td>0.034880</td>\n",
       "      <td>0.035499</td>\n",
       "      <td>0.022815</td>\n",
       "      <td>0.031168</td>\n",
       "      <td>0.168523</td>\n",
       "      <td>0.133256</td>\n",
       "      <td>0.111137</td>\n",
       "      <td>0.092343</td>\n",
       "      <td>0.064811</td>\n",
       "      <td>0.218407</td>\n",
       "      <td>0.081748</td>\n",
       "    </tr>\n",
       "    <tr>\n",
       "      <th>DET</th>\n",
       "      <td>0.000481</td>\n",
       "      <td>0.017666</td>\n",
       "      <td>0.003605</td>\n",
       "      <td>0.021512</td>\n",
       "      <td>0.000240</td>\n",
       "      <td>0.039659</td>\n",
       "      <td>0.005528</td>\n",
       "      <td>0.637904</td>\n",
       "      <td>0.009374</td>\n",
       "      <td>0.205504</td>\n",
       "      <td>0.045788</td>\n",
       "      <td>0.012739</td>\n",
       "    </tr>\n",
       "    <tr>\n",
       "      <th>NOUN</th>\n",
       "      <td>0.043177</td>\n",
       "      <td>0.240013</td>\n",
       "      <td>0.004826</td>\n",
       "      <td>0.009180</td>\n",
       "      <td>0.044302</td>\n",
       "      <td>0.146149</td>\n",
       "      <td>0.013316</td>\n",
       "      <td>0.264794</td>\n",
       "      <td>0.176082</td>\n",
       "      <td>0.012191</td>\n",
       "      <td>0.029172</td>\n",
       "      <td>0.016799</td>\n",
       "    </tr>\n",
       "    <tr>\n",
       "      <th>ADP</th>\n",
       "      <td>0.000852</td>\n",
       "      <td>0.038986</td>\n",
       "      <td>0.068279</td>\n",
       "      <td>0.062740</td>\n",
       "      <td>0.001385</td>\n",
       "      <td>0.008202</td>\n",
       "      <td>0.324776</td>\n",
       "      <td>0.322433</td>\n",
       "      <td>0.016937</td>\n",
       "      <td>0.106519</td>\n",
       "      <td>0.035045</td>\n",
       "      <td>0.013847</td>\n",
       "    </tr>\n",
       "    <tr>\n",
       "      <th>ADJ</th>\n",
       "      <td>0.017581</td>\n",
       "      <td>0.064246</td>\n",
       "      <td>0.000657</td>\n",
       "      <td>0.021525</td>\n",
       "      <td>0.011173</td>\n",
       "      <td>0.011502</td>\n",
       "      <td>0.004601</td>\n",
       "      <td>0.700460</td>\n",
       "      <td>0.076898</td>\n",
       "      <td>0.065725</td>\n",
       "      <td>0.020868</td>\n",
       "      <td>0.004765</td>\n",
       "    </tr>\n",
       "    <tr>\n",
       "      <th>X</th>\n",
       "      <td>0.010107</td>\n",
       "      <td>0.163771</td>\n",
       "      <td>0.054643</td>\n",
       "      <td>0.002685</td>\n",
       "      <td>0.185250</td>\n",
       "      <td>0.204517</td>\n",
       "      <td>0.054801</td>\n",
       "      <td>0.062697</td>\n",
       "      <td>0.143557</td>\n",
       "      <td>0.016582</td>\n",
       "      <td>0.075174</td>\n",
       "      <td>0.026216</td>\n",
       "    </tr>\n",
       "    <tr>\n",
       "      <th>ADV</th>\n",
       "      <td>0.006935</td>\n",
       "      <td>0.137054</td>\n",
       "      <td>0.015192</td>\n",
       "      <td>0.032365</td>\n",
       "      <td>0.014531</td>\n",
       "      <td>0.344122</td>\n",
       "      <td>0.068362</td>\n",
       "      <td>0.031704</td>\n",
       "      <td>0.117900</td>\n",
       "      <td>0.129128</td>\n",
       "      <td>0.023778</td>\n",
       "      <td>0.078930</td>\n",
       "    </tr>\n",
       "  </tbody>\n",
       "</table>\n",
       "</div>"
      ],
      "text/plain": [
       "          CONJ         .      PRON       NUM       PRT      VERB       DET  \\\n",
       "CONJ  0.000459  0.034451  0.057878  0.041801  0.005053  0.157556  0.121268   \n",
       ".     0.057792  0.094382  0.065933  0.080515  0.002415  0.088925  0.173287   \n",
       "PRON  0.005376  0.039555  0.008065  0.007296  0.011905  0.486943  0.009985   \n",
       "NUM   0.013341  0.117106  0.001482  0.185888  0.026979  0.018678  0.003261   \n",
       "PRT   0.002265  0.041424  0.018123  0.056311  0.001942  0.401618  0.102265   \n",
       "VERB  0.005414  0.034880  0.035499  0.022815  0.031168  0.168523  0.133256   \n",
       "DET   0.000481  0.017666  0.003605  0.021512  0.000240  0.039659  0.005528   \n",
       "NOUN  0.043177  0.240013  0.004826  0.009180  0.044302  0.146149  0.013316   \n",
       "ADP   0.000852  0.038986  0.068279  0.062740  0.001385  0.008202  0.324776   \n",
       "ADJ   0.017581  0.064246  0.000657  0.021525  0.011173  0.011502  0.004601   \n",
       "X     0.010107  0.163771  0.054643  0.002685  0.185250  0.204517  0.054801   \n",
       "ADV   0.006935  0.137054  0.015192  0.032365  0.014531  0.344122  0.068362   \n",
       "\n",
       "          NOUN       ADP       ADJ         X       ADV  \n",
       "CONJ  0.349564  0.052825  0.116215  0.008268  0.054662  \n",
       ".     0.222222  0.090446  0.044104  0.027107  0.052782  \n",
       "PRON  0.206989  0.023810  0.072581  0.094086  0.033410  \n",
       "NUM   0.351319  0.034687  0.033501  0.210792  0.002965  \n",
       "PRT   0.247896  0.021036  0.083495  0.013592  0.010032  \n",
       "VERB  0.111137  0.092343  0.064811  0.218407  0.081748  \n",
       "DET   0.637904  0.009374  0.205504  0.045788  0.012739  \n",
       "NOUN  0.264794  0.176082  0.012191  0.029172  0.016799  \n",
       "ADP   0.322433  0.016937  0.106519  0.035045  0.013847  \n",
       "ADJ   0.700460  0.076898  0.065725  0.020868  0.004765  \n",
       "X     0.062697  0.143557  0.016582  0.075174  0.026216  \n",
       "ADV   0.031704  0.117900  0.129128  0.023778  0.078930  "
      ]
     },
     "execution_count": 19,
     "metadata": {},
     "output_type": "execute_result"
    }
   ],
   "source": [
    "tags_df"
   ]
  },
  {
   "cell_type": "code",
   "execution_count": 20,
   "metadata": {},
   "outputs": [
    {
     "data": {
      "text/plain": [
       "CONJ    0.057792\n",
       ".       0.094382\n",
       "PRON    0.065933\n",
       "NUM     0.080515\n",
       "PRT     0.002415\n",
       "VERB    0.088925\n",
       "DET     0.173287\n",
       "NOUN    0.222222\n",
       "ADP     0.090446\n",
       "ADJ     0.044104\n",
       "X       0.027107\n",
       "ADV     0.052782\n",
       "Name: ., dtype: float32"
      ]
     },
     "execution_count": 20,
     "metadata": {},
     "output_type": "execute_result"
    }
   ],
   "source": [
    "tags_df.loc['.', :]"
   ]
  },
  {
   "cell_type": "markdown",
   "metadata": {},
   "source": [
    "### EDA"
   ]
  },
  {
   "cell_type": "code",
   "execution_count": 21,
   "metadata": {},
   "outputs": [
    {
     "data": {
      "image/png": "[encoded data removed]",
      "text/plain": [
       "<Figure size 1008x576 with 2 Axes>"
      ]
     },
     "metadata": {
      "needs_background": "light"
     },
     "output_type": "display_data"
    }
   ],
   "source": [
    "# Heatmap on the tags_df\n",
    "\n",
    "plt.figure(figsize=(14, 8))\n",
    "sns.heatmap(tags_df, annot = True)\n",
    "plt.show()"
   ]
  },
  {
   "cell_type": "code",
   "execution_count": 22,
   "metadata": {},
   "outputs": [
    {
     "data": {
      "image/png": "[encoded data removed]",
      "text/plain": [
       "<Figure size 1008x576 with 2 Axes>"
      ]
     },
     "metadata": {
      "needs_background": "light"
     },
     "output_type": "display_data"
    }
   ],
   "source": [
    "# filtering the df to get P(t2, t1) > 0.5\n",
    "\n",
    "tags_frequent = tags_df[tags_df>0.5]\n",
    "plt.figure(figsize=(14, 8))\n",
    "sns.heatmap(tags_frequent, annot = True)\n",
    "plt.show()"
   ]
  },
  {
   "cell_type": "markdown",
   "metadata": {},
   "source": [
    "### Viterbi Algorithm"
   ]
  },
  {
   "cell_type": "code",
   "execution_count": 23,
   "metadata": {},
   "outputs": [
    {
     "data": {
      "text/plain": [
       "96068"
      ]
     },
     "execution_count": 23,
     "metadata": {},
     "output_type": "execute_result"
    }
   ],
   "source": [
    "len(train_tagged_words)"
   ]
  },
  {
   "cell_type": "code",
   "execution_count": 24,
   "metadata": {},
   "outputs": [],
   "source": [
    "# Viterbi Heuristic\n",
    "def Viterbi(words, train_bag = train_tagged_words):\n",
    "    state = []\n",
    "    T = list(set([pair[1] for pair in train_bag]))\n",
    "    \n",
    "    for key, word in enumerate(words):\n",
    "        #initialise list of probability column for a given observation\n",
    "        p = [] \n",
    "        for tag in T:\n",
    "            if key == 0:\n",
    "                transition_p = tags_df.loc['.', tag]\n",
    "            else:\n",
    "                transition_p = tags_df.loc[state[-1], tag]\n",
    "                \n",
    "            # compute emission and state probabilities\n",
    "            emission_p = word_given_tag(words[key], tag)[0]/word_given_tag(words[key], tag)[1]\n",
    "            state_probability = emission_p * transition_p    \n",
    "            p.append(state_probability)\n",
    "            \n",
    "        pmax = max(p)\n",
    "        # getting state for which probability is maximum\n",
    "        state_max = T[p.index(pmax)] \n",
    "        state.append(state_max)\n",
    "    return list(zip(words, state))"
   ]
  },
  {
   "cell_type": "markdown",
   "metadata": {},
   "source": [
    "### Evaluation on Test set"
   ]
  },
  {
   "cell_type": "code",
   "execution_count": 25,
   "metadata": {},
   "outputs": [
    {
     "data": {
      "text/plain": [
       "[[('Vicar', 'NOUN'),\n",
       "  ('Marshall', 'NOUN'),\n",
       "  ('admits', 'VERB'),\n",
       "  ('to', 'PRT'),\n",
       "  ('mixed', 'VERB'),\n",
       "  ('feelings', 'NOUN'),\n",
       "  ('about', 'ADP'),\n",
       "  ('this', 'DET'),\n",
       "  ('issue', 'NOUN'),\n",
       "  (',', '.'),\n",
       "  ('since', 'ADP'),\n",
       "  ('he', 'PRON'),\n",
       "  ('is', 'VERB'),\n",
       "  ('both', 'DET'),\n",
       "  ('a', 'DET'),\n",
       "  ('vicar', 'NOUN'),\n",
       "  ('and', 'CONJ'),\n",
       "  ('an', 'DET'),\n",
       "  ('active', 'ADJ'),\n",
       "  ('bell-ringer', 'NOUN'),\n",
       "  ('himself', 'PRON'),\n",
       "  ('.', '.')],\n",
       " [('The', 'DET'),\n",
       "  ('board', 'NOUN'),\n",
       "  ('already', 'ADV'),\n",
       "  ('has', 'VERB'),\n",
       "  ('been', 'VERB'),\n",
       "  ('searching', 'VERB'),\n",
       "  ('for', 'ADP'),\n",
       "  ('strong', 'ADJ'),\n",
       "  ('outside', 'ADJ'),\n",
       "  ('candidates', 'NOUN'),\n",
       "  (',', '.'),\n",
       "  ('including', 'VERB'),\n",
       "  ('food-industry', 'NOUN'),\n",
       "  ('executives', 'NOUN'),\n",
       "  ('with', 'ADP'),\n",
       "  ('considerable', 'ADJ'),\n",
       "  ('international', 'ADJ'),\n",
       "  ('experience', 'NOUN'),\n",
       "  ('.', '.')],\n",
       " [('Now', 'ADV'),\n",
       "  (',', '.'),\n",
       "  ('13', 'NUM'),\n",
       "  ('years', 'NOUN'),\n",
       "  ('later', 'ADV'),\n",
       "  (',', '.'),\n",
       "  ('Mr.', 'NOUN'),\n",
       "  ('Lane', 'NOUN'),\n",
       "  ('has', 'VERB'),\n",
       "  ('revived', 'VERB'),\n",
       "  ('his', 'PRON'),\n",
       "  ('Artist', 'NOUN'),\n",
       "  ('in', 'ADP'),\n",
       "  ('a', 'DET'),\n",
       "  ('full-length', 'ADJ'),\n",
       "  ('movie', 'NOUN'),\n",
       "  ('called', 'VERB'),\n",
       "  ('*', 'X'),\n",
       "  ('``', '.'),\n",
       "  ('Sidewalk', 'NOUN'),\n",
       "  ('Stories', 'NOUN'),\n",
       "  (',', '.'),\n",
       "  (\"''\", '.'),\n",
       "  ('a', 'DET'),\n",
       "  ('poignant', 'ADJ'),\n",
       "  ('piece', 'NOUN'),\n",
       "  ('of', 'ADP'),\n",
       "  ('work', 'NOUN'),\n",
       "  ('about', 'ADP'),\n",
       "  ('a', 'DET'),\n",
       "  ('modern-day', 'ADJ'),\n",
       "  ('tramp', 'NOUN'),\n",
       "  ('.', '.')],\n",
       " [('For', 'ADP'),\n",
       "  ('all', 'DET'),\n",
       "  ('the', 'DET'),\n",
       "  ('furor', 'NOUN'),\n",
       "  (',', '.'),\n",
       "  ('there', 'DET'),\n",
       "  ('is', 'VERB'),\n",
       "  ('nothing', 'NOUN'),\n",
       "  ('particularly', 'ADV'),\n",
       "  ('complex', 'ADJ'),\n",
       "  ('about', 'ADP'),\n",
       "  ('the', 'DET'),\n",
       "  ('concept', 'NOUN'),\n",
       "  ('of', 'ADP'),\n",
       "  ('stock-index', 'ADJ'),\n",
       "  ('arbitrage', 'NOUN'),\n",
       "  (',', '.'),\n",
       "  ('the', 'DET'),\n",
       "  ('most', 'ADV'),\n",
       "  ('controversial', 'ADJ'),\n",
       "  ('type', 'NOUN'),\n",
       "  ('of', 'ADP'),\n",
       "  ('computer-assisted', 'ADJ'),\n",
       "  ('program', 'NOUN'),\n",
       "  ('trading', 'NOUN'),\n",
       "  ('.', '.')],\n",
       " [('The', 'DET'),\n",
       "  ('top', 'ADJ'),\n",
       "  ('money', 'NOUN'),\n",
       "  ('funds', 'NOUN'),\n",
       "  ('are', 'VERB'),\n",
       "  ('currently', 'ADV'),\n",
       "  ('yielding', 'VERB'),\n",
       "  ('well', 'ADV'),\n",
       "  ('over', 'ADP'),\n",
       "  ('9', 'NUM'),\n",
       "  ('%', 'NOUN'),\n",
       "  ('.', '.')]]"
      ]
     },
     "execution_count": 25,
     "metadata": {},
     "output_type": "execute_result"
    }
   ],
   "source": [
    "#Testing the Alogorithm\n",
    "\n",
    "rsents = [random.randint(1,len(test_set)) for x in range(5)]\n",
    "\n",
    "# list of sents\n",
    "algo_test = [test_set[i] for i in rsents]\n",
    "\n",
    "# list of tagged words\n",
    "algo_test_base = [tup for sent in algo_test for tup in sent]\n",
    "\n",
    "# list of untagged words\n",
    "test_tagged_words = [tup[0] for sent in algo_test for tup in sent]\n",
    "algo_test"
   ]
  },
  {
   "cell_type": "code",
   "execution_count": 26,
   "metadata": {},
   "outputs": [],
   "source": [
    "# tagging the test sentences\n",
    "start = time.time()\n",
    "tagged_seq = Viterbi(test_tagged_words)\n",
    "end = time.time()\n",
    "difference = end-start"
   ]
  },
  {
   "cell_type": "code",
   "execution_count": 27,
   "metadata": {},
   "outputs": [
    {
     "data": {
      "text/plain": [
       "26.663159132003784"
      ]
     },
     "execution_count": 27,
     "metadata": {},
     "output_type": "execute_result"
    }
   ],
   "source": [
    "difference"
   ]
  },
  {
   "cell_type": "code",
   "execution_count": 28,
   "metadata": {},
   "outputs": [],
   "source": [
    "# accuracy\n",
    "check = [i for i, j in zip(tagged_seq, algo_test_base) if i == j] "
   ]
  },
  {
   "cell_type": "code",
   "execution_count": 29,
   "metadata": {},
   "outputs": [],
   "source": [
    "accuracy = len(check)/len(tagged_seq)"
   ]
  },
  {
   "cell_type": "code",
   "execution_count": 30,
   "metadata": {},
   "outputs": [
    {
     "data": {
      "text/plain": [
       "0.9017857142857143"
      ]
     },
     "execution_count": 30,
     "metadata": {},
     "output_type": "execute_result"
    }
   ],
   "source": [
    "accuracy"
   ]
  },
  {
   "cell_type": "code",
   "execution_count": 31,
   "metadata": {},
   "outputs": [
    {
     "name": "stdout",
     "output_type": "stream",
     "text": [
      "The Accuracy of Viterbi Algorithm is :  90.17857142857143\n"
     ]
    }
   ],
   "source": [
    "Accuracy_in_percentage = accuracy*100\n",
    "print('The Accuracy of Viterbi Algorithm is : ',Accuracy_in_percentage)"
   ]
  },
  {
   "cell_type": "code",
   "execution_count": 32,
   "metadata": {},
   "outputs": [],
   "source": [
    "incorrect_tagged_cases = [[algo_test_base[i-1],j] for i, j in enumerate(zip(tagged_seq, algo_test_base)) if j[0]!=j[1]]"
   ]
  },
  {
   "cell_type": "code",
   "execution_count": 33,
   "metadata": {},
   "outputs": [
    {
     "data": {
      "text/plain": [
       "[[('.', '.'), (('Vicar', 'CONJ'), ('Vicar', 'NOUN'))],\n",
       " [('mixed', 'VERB'), (('feelings', 'CONJ'), ('feelings', 'NOUN'))],\n",
       " [('active', 'ADJ'), (('bell-ringer', 'CONJ'), ('bell-ringer', 'NOUN'))],\n",
       " [('been', 'VERB'), (('searching', 'CONJ'), ('searching', 'VERB'))],\n",
       " [('including', 'VERB'),\n",
       "  (('food-industry', 'CONJ'), ('food-industry', 'NOUN'))],\n",
       " [('years', 'NOUN'), (('later', 'ADJ'), ('later', 'ADV'))],\n",
       " [('a', 'DET'), (('full-length', 'CONJ'), ('full-length', 'ADJ'))],\n",
       " [('a', 'DET'), (('poignant', 'CONJ'), ('poignant', 'ADJ'))],\n",
       " [('a', 'DET'), (('modern-day', 'CONJ'), ('modern-day', 'ADJ'))],\n",
       " [('modern-day', 'ADJ'), (('tramp', 'CONJ'), ('tramp', 'NOUN'))],\n",
       " [('the', 'DET'), (('most', 'ADJ'), ('most', 'ADV'))]]"
      ]
     },
     "execution_count": 33,
     "metadata": {},
     "output_type": "execute_result"
    }
   ],
   "source": [
    "incorrect_tagged_cases"
   ]
  },
  {
   "cell_type": "markdown",
   "metadata": {},
   "source": [
    "### Unknown Words"
   ]
  },
  {
   "cell_type": "code",
   "execution_count": 36,
   "metadata": {},
   "outputs": [
    {
     "name": "stdout",
     "output_type": "stream",
     "text": [
      "Total Unknown words : 9\n",
      "\n",
      "\n",
      "Unknown Words : ['poignant', 'full-length', 'bell-ringer', 'Vicar', 'food-industry', 'feelings', 'searching', 'modern-day', 'tramp']\n"
     ]
    }
   ],
   "source": [
    "#unknown words\n",
    "v_Test = set([t for t in test_tagged_words])\n",
    "unknown_words = list(v_Test - V)\n",
    "print(\"Total Unknown words :\", len(unknown_words))\n",
    "print(\"\\n\")\n",
    "print(\"Unknown Words :\", unknown_words)"
   ]
  },
  {
   "cell_type": "markdown",
   "metadata": {},
   "source": [
    "### Solve the problem of unknown words"
   ]
  },
  {
   "cell_type": "code",
   "execution_count": 37,
   "metadata": {},
   "outputs": [
    {
     "name": "stdout",
     "output_type": "stream",
     "text": [
      "0.9127604166666666\n"
     ]
    }
   ],
   "source": [
    "# Unigram tagger\n",
    "unigram_tagger = nltk.UnigramTagger(train_set)\n",
    "accuracy_unigram_tagger = unigram_tagger.evaluate(test_set)\n",
    "print(accuracy_unigram_tagger)"
   ]
  },
  {
   "cell_type": "code",
   "execution_count": 39,
   "metadata": {},
   "outputs": [],
   "source": [
    "# patterns for tagging using a rule based regex tagger -\n",
    "\n",
    "patterns = [\n",
    "    (r'^[aA-zZ].*[0-9]+','NOUN'),                         # Alpha Numeric\n",
    "    (r'.*ness$', 'NOUN'),\n",
    "    (r'.*\\'s$', 'NOUN'),                                  # possessive nouns\n",
    "    (r'.*s$', 'NOUN'),                                    # plural nouns\n",
    "    (r'.*', 'NOUN'),    \n",
    "    (r'.*ly$', 'ADV'),\n",
    "    (r'^(0|([*|-|$].*))','X'),                            # Any special character combination\n",
    "    (r'.*ould$', 'X'),                                    # modals\n",
    "    (r'(The|the|A|a|An|an)$', 'DET'),\n",
    "    (r'^([0-9]|[aA-zZ])+\\-[aA-zZ]*$','ADJ'),\n",
    "    (r'.*able$', 'ADJ'),                                  # adjective like 100-megabytes 237-Seats\n",
    "    (r'[aA-zZ]+(ed|ing|es)$', 'VERB'),                    # Any word ending with 'ing' or 'ed' is a verb\n",
    "    (r'[0-9].?[,\\/]?[0-9]*','NUM')                        # Numbers \n",
    "    ]"
   ]
  },
  {
   "cell_type": "code",
   "execution_count": 40,
   "metadata": {},
   "outputs": [
    {
     "name": "stdout",
     "output_type": "stream",
     "text": [
      "0.9392361111111112\n"
     ]
    }
   ],
   "source": [
    "# rule based tagger\n",
    "rule_based_tagger = nltk.RegexpTagger(patterns)\n",
    "\n",
    "# lexicon backed up by the rule-based tagger\n",
    "lexicon_tagger = nltk.UnigramTagger(train_set, backoff=rule_based_tagger)\n",
    "\n",
    "accuracy_lexicon_tagger = lexicon_tagger.evaluate(test_set)\n",
    "print(accuracy_lexicon_tagger)"
   ]
  },
  {
   "cell_type": "code",
   "execution_count": 41,
   "metadata": {},
   "outputs": [
    {
     "name": "stdout",
     "output_type": "stream",
     "text": [
      "0.9405381944444444\n"
     ]
    }
   ],
   "source": [
    "# Bigram and Trigram tagger\n",
    "bigram_tagger = nltk.BigramTagger(train_set,backoff=lexicon_tagger)\n",
    "bigram_tagger.evaluate(test_set)\n",
    "accuracy_bigram_tagger = bigram_tagger.evaluate(test_set)\n",
    "print(accuracy_bigram_tagger)"
   ]
  },
  {
   "cell_type": "code",
   "execution_count": 42,
   "metadata": {},
   "outputs": [
    {
     "name": "stdout",
     "output_type": "stream",
     "text": [
      "0.9405381944444444\n"
     ]
    }
   ],
   "source": [
    "trigram_tagger = nltk.TrigramTagger(train_set, backoff=bigram_tagger)\n",
    "trigram_tagger.evaluate(test_set)\n",
    "accuracy_trigram_tagger = trigram_tagger.evaluate(test_set)\n",
    "print(accuracy_trigram_tagger)"
   ]
  },
  {
   "cell_type": "markdown",
   "metadata": {},
   "source": [
    "#### Bigram Tagger gives a slightly better accuracy than Trigram tagger, however any of the Bigram or Trigram gives me better accuracy than Viterbi Heuristic Algorithm. "
   ]
  },
  {
   "cell_type": "markdown",
   "metadata": {},
   "source": [
    "#### Method 1\n",
    "\n",
    "#### Now, we will build this into Veterbi algorithm. We need to change the regex to fit to our data."
   ]
  },
  {
   "cell_type": "code",
   "execution_count": 43,
   "metadata": {},
   "outputs": [],
   "source": [
    "# A trigram tagger backed off by a rule based tagger.\n",
    "\n",
    "def trigram_tagger(word, train_set = train_set):\n",
    "    \n",
    "    patterns = [\n",
    "    (r'[aA-zZ]+(ed|ing|es)$', 'VERB'), # Any word ending with 'ing' or 'ed' is a verb\n",
    "\n",
    "    (r'.*ly$', 'ADV'),\n",
    "        \n",
    "    (r'^([0-9]|[aA-zZ])+\\-[aA-zZ]*$','ADJ'),\n",
    "    (r'.*able$', 'ADJ'), \n",
    "    (r'.*ful$', 'ADJ'),\n",
    "    (r'.*ous$', 'ADJ'),\n",
    "        \n",
    "    (r'^[aA-zZ].*[0-9]+','NOUN'),     # Alpha Numeric\n",
    "    (r'.*ness$', 'NOUN'),\n",
    "    (r'.*\\'s$', 'NOUN'),              # possessive nouns - words ending with 's\n",
    "    (r'.*s$', 'NOUN'),                # plural nouns\n",
    "    (r'.*ers$', 'NOUN'),              # eg.- kinderganteners, autobioghapgers\n",
    "    (r'.*ment$', 'NOUN'),\n",
    "    (r'.*town$', 'NOUN'),\n",
    "        \n",
    "    (r'^(0|([*|-|$].*))','X'), # Any special character combination\n",
    "    (r'.*ould$', 'X'),\n",
    "        \n",
    "    (r'(The|the|A|a|An|an|That|that|This|this|Those|those|These|these)$', 'DET'), # That/this/these/those belong to the category of Demonstrative determiners\n",
    "    (r'[0-9].?[,\\/]?[0-9]*','NUM'), # Numbers \n",
    "        \n",
    "    (r'.*', 'NOUN')\n",
    "    ]\n",
    "\n",
    "    regex_based_tagger = nltk.RegexpTagger(patterns)\n",
    "\n",
    "    # trigram backed up by the regex tagger\n",
    "    trigram_regex_tagger = nltk.TrigramTagger(train_set, backoff = regex_based_tagger)\n",
    "    return trigram_regex_tagger.tag_sents([[(word)]])"
   ]
  },
  {
   "cell_type": "code",
   "execution_count": 44,
   "metadata": {},
   "outputs": [],
   "source": [
    "# viterbi with handling for unknown words from regex tagger\n",
    "\n",
    "def new_Viterbi(words, train_bag = train_tagged_words):\n",
    "    state = []\n",
    "    T = list(set([pair[1] for pair in train_bag]))\n",
    "    \n",
    "    for key, word in enumerate(words):\n",
    "        # unknown words from trigram taggr\n",
    "        if word not in V:\n",
    "            unk_word_tag=trigram_tagger(word)\n",
    "            for sent in unk_word_tag:\n",
    "                for tup in sent:\n",
    "                    state.append(tup[1])\n",
    "        # rest remains same            \n",
    "        else:            \n",
    "            p = [] \n",
    "            for tag in T:\n",
    "                if key == 0:\n",
    "                    transition_p = tags_df.loc['.', tag]\n",
    "                else:\n",
    "                    transition_p = tags_df.loc[state[-1], tag]\n",
    "                \n",
    "            # compute emission and state probabilities\n",
    "                emission_p = word_given_tag(words[key], tag)[0]/word_given_tag(words[key], tag)[1]\n",
    "                state_probability = emission_p * transition_p    \n",
    "                p.append(state_probability)\n",
    "            \n",
    "            pmax = max(p)\n",
    "            # getting state for which probability is maximum\n",
    "            state_max = T[p.index(pmax)] \n",
    "            state.append(state_max)\n",
    "            \n",
    "    return list(zip(words, state))"
   ]
  },
  {
   "cell_type": "code",
   "execution_count": 45,
   "metadata": {},
   "outputs": [
    {
     "name": "stdout",
     "output_type": "stream",
     "text": [
      "Time taken in seconds:  55.856895208358765\n",
      "Vanilla Viterbi for Unknown Words Accuracy:  95.53571428571429\n"
     ]
    }
   ],
   "source": [
    "start = time.time()\n",
    "tagged_seq = new_Viterbi(test_tagged_words)\n",
    "end = time.time()\n",
    "difference = end-start\n",
    "print(\"Time taken in seconds: \", difference)\n",
    "\n",
    "# accuracy\n",
    "check = [i for i, j in zip(tagged_seq, algo_test_base) if i == j] \n",
    "viterbi_trigram_accuracy = len(check)/len(tagged_seq)\n",
    "print('Vanilla Viterbi for Unknown Words Accuracy: ',viterbi_trigram_accuracy*100)"
   ]
  },
  {
   "cell_type": "markdown",
   "metadata": {},
   "source": [
    "### Method 2"
   ]
  },
  {
   "cell_type": "code",
   "execution_count": 46,
   "metadata": {},
   "outputs": [
    {
     "data": {
      "text/plain": [
       "[('CONJ', 0.02266103176916351),\n",
       " ('.', 0.11635508181704626),\n",
       " ('PRON', 0.027105800058292044),\n",
       " ('NUM', 0.03511054669609027),\n",
       " ('PRT', 0.032164716659033185),\n",
       " ('VERB', 0.13459216388391557),\n",
       " ('DET', 0.08661573052421202),\n",
       " ('NOUN', 0.2868905358704251),\n",
       " ('ADP', 0.09772244660032477),\n",
       " ('ADJ', 0.06335095973685306),\n",
       " ('X', 0.06591164591747513),\n",
       " ('ADV', 0.03151934046716909)]"
      ]
     },
     "execution_count": 46,
     "metadata": {},
     "output_type": "execute_result"
    }
   ],
   "source": [
    "#creating a list  of POS tags and POS tag occurance probability, based on training data\n",
    "\n",
    "tag_prob = []\n",
    "total_tag = len([tag for word,tag in train_tagged_words])\n",
    "for t in T:\n",
    "    each_tag = [tag for word,tag in train_tagged_words if tag==t]\n",
    "    tag_prob.append((t,len(each_tag)/total_tag))\n",
    "\n",
    "tag_prob"
   ]
  },
  {
   "cell_type": "code",
   "execution_count": 47,
   "metadata": {},
   "outputs": [],
   "source": [
    "# use transition probability of tags when emission probability is zero (in case of unknown words)\n",
    "\n",
    "def Vanilla_Viterbi_for_Unknown_Words(words, train_bag = train_tagged_words):\n",
    "    state = []\n",
    "    T = list(set([pair[1] for pair in train_bag]))\n",
    "    \n",
    "    for key, word in enumerate(words):\n",
    "        #initialise list of probability column for a given observation\n",
    "        p = [] \n",
    "        p_transition =[] # list for storing transition probabilities\n",
    "       \n",
    "        for tag in T:\n",
    "            if key == 0:\n",
    "                transition_p = tags_df.loc['.', tag]\n",
    "            else:\n",
    "                transition_p = tags_df.loc[state[-1], tag]\n",
    "                \n",
    "            # compute emission and state probabilities\n",
    "            emission_p = word_given_tag(words[key], tag)[0]/word_given_tag(words[key], tag)[1]\n",
    "            state_probability = emission_p * transition_p    \n",
    "            p.append(state_probability)\n",
    "            \n",
    "            # find POS tag occurance probability\n",
    "            tag_p = [pair[1] for pair in tag_prob if pair[0]==tag ]\n",
    "            \n",
    "            # calculate the transition prob weighted by tag occurance probability.\n",
    "            transition_p = tag_p[0]*transition_p             \n",
    "            p_transition.append(transition_p)\n",
    "            \n",
    "        pmax = max(p)\n",
    "        state_max = T[p.index(pmax)] \n",
    "        \n",
    "      \n",
    "        # if probability is zero (unknown word) then use weighted transition probability\n",
    "        if(pmax==0):\n",
    "            pmax = max(p_transition)\n",
    "            state_max = T[p_transition.index(pmax)]                 \n",
    "                           \n",
    "        else:\n",
    "            state_max = T[p.index(pmax)] \n",
    "        \n",
    "        state.append(state_max)\n",
    "    return list(zip(words, state))"
   ]
  },
  {
   "cell_type": "code",
   "execution_count": 48,
   "metadata": {},
   "outputs": [
    {
     "name": "stdout",
     "output_type": "stream",
     "text": [
      "Time taken in seconds:  27.88838291168213\n",
      "Modified Vanilla Viterbi for Unknown Words Accuracy:  94.64285714285714\n"
     ]
    }
   ],
   "source": [
    "# tagging the test sentences\n",
    "start = time.time()\n",
    "tagged_seq = Vanilla_Viterbi_for_Unknown_Words(test_tagged_words)\n",
    "end = time.time()\n",
    "difference = end-start\n",
    "\n",
    "print(\"Time taken in seconds: \", difference)\n",
    "\n",
    "# accuracy\n",
    "viterbi_word_check = [i for i, j in zip(tagged_seq, algo_test_base) if i == j] \n",
    "accuracy_viterbi_modified = len(viterbi_word_check)/len(tagged_seq) * 100\n",
    "print('Modified Vanilla Viterbi for Unknown Words Accuracy: ', accuracy_viterbi_modified)"
   ]
  },
  {
   "cell_type": "markdown",
   "metadata": {},
   "source": [
    "#### Method 1 or Using a Trigram Tagger Regex Pattern gives better Accuracy."
   ]
  },
  {
   "cell_type": "markdown",
   "metadata": {},
   "source": [
    "### Compare the tagging accuracies of the modifications with the vanilla Viterbi algorithm"
   ]
  },
  {
   "cell_type": "code",
   "execution_count": 49,
   "metadata": {},
   "outputs": [],
   "source": [
    "data_Accuracy = [['Vanilla Viterbi', accuracy*100], \n",
    "                  ['Vanilla Viterbi Modified', accuracy_viterbi_modified], \n",
    "                  ['Unigram Tagger', accuracy_unigram_tagger * 100],\n",
    "                  ['Unigram + RegexTagger', accuracy_lexicon_tagger * 100],\n",
    "                  ['Bigram Tagger + Unigram_tagger', accuracy_bigram_tagger*100],\n",
    "                  ['Trigram Tagger + Bigram_tagger', accuracy_trigram_tagger*100],\n",
    "                  ['Viterbi + Trigram_tagger', viterbi_trigram_accuracy*100]]\n"
   ]
  },
  {
   "cell_type": "code",
   "execution_count": 50,
   "metadata": {},
   "outputs": [],
   "source": [
    "df = pd.DataFrame(data_Accuracy, columns = ['Tagging_Algorithm', 'Tagging_Accuracy'])"
   ]
  },
  {
   "cell_type": "code",
   "execution_count": 51,
   "metadata": {},
   "outputs": [
    {
     "data": {
      "text/html": [
       "<div>\n",
       "<style scoped>\n",
       "    .dataframe tbody tr th:only-of-type {\n",
       "        vertical-align: middle;\n",
       "    }\n",
       "\n",
       "    .dataframe tbody tr th {\n",
       "        vertical-align: top;\n",
       "    }\n",
       "\n",
       "    .dataframe thead th {\n",
       "        text-align: right;\n",
       "    }\n",
       "</style>\n",
       "<table border=\"1\" class=\"dataframe\">\n",
       "  <thead>\n",
       "    <tr style=\"text-align: right;\">\n",
       "      <th></th>\n",
       "      <th>Tagging_Accuracy</th>\n",
       "    </tr>\n",
       "    <tr>\n",
       "      <th>Tagging_Algorithm</th>\n",
       "      <th></th>\n",
       "    </tr>\n",
       "  </thead>\n",
       "  <tbody>\n",
       "    <tr>\n",
       "      <th>Vanilla Viterbi</th>\n",
       "      <td>90.178571</td>\n",
       "    </tr>\n",
       "    <tr>\n",
       "      <th>Vanilla Viterbi Modified</th>\n",
       "      <td>94.642857</td>\n",
       "    </tr>\n",
       "    <tr>\n",
       "      <th>Unigram Tagger</th>\n",
       "      <td>91.276042</td>\n",
       "    </tr>\n",
       "    <tr>\n",
       "      <th>Unigram + RegexTagger</th>\n",
       "      <td>93.923611</td>\n",
       "    </tr>\n",
       "    <tr>\n",
       "      <th>Bigram Tagger + Unigram_tagger</th>\n",
       "      <td>94.053819</td>\n",
       "    </tr>\n",
       "    <tr>\n",
       "      <th>Trigram Tagger + Bigram_tagger</th>\n",
       "      <td>94.053819</td>\n",
       "    </tr>\n",
       "    <tr>\n",
       "      <th>Viterbi + Trigram_tagger</th>\n",
       "      <td>95.535714</td>\n",
       "    </tr>\n",
       "  </tbody>\n",
       "</table>\n",
       "</div>"
      ],
      "text/plain": [
       "                                Tagging_Accuracy\n",
       "Tagging_Algorithm                               \n",
       "Vanilla Viterbi                        90.178571\n",
       "Vanilla Viterbi Modified               94.642857\n",
       "Unigram Tagger                         91.276042\n",
       "Unigram + RegexTagger                  93.923611\n",
       "Bigram Tagger + Unigram_tagger         94.053819\n",
       "Trigram Tagger + Bigram_tagger         94.053819\n",
       "Viterbi + Trigram_tagger               95.535714"
      ]
     },
     "execution_count": 51,
     "metadata": {},
     "output_type": "execute_result"
    }
   ],
   "source": [
    "df.set_index('Tagging_Algorithm', drop = True, inplace = True)\n",
    "\n",
    "df"
   ]
  },
  {
   "cell_type": "code",
   "execution_count": 52,
   "metadata": {},
   "outputs": [
    {
     "data": {
      "image/png": "[encoded data removed]",
      "text/plain": [
       "<Figure size 432x288 with 1 Axes>"
      ]
     },
     "metadata": {
      "needs_background": "light"
     },
     "output_type": "display_data"
    }
   ],
   "source": [
    "#Plotting the Model accuracies\n",
    "\n",
    "df.plot.line(rot = 90, legend = False)\n",
    "plt.show()"
   ]
  },
  {
   "cell_type": "markdown",
   "metadata": {},
   "source": [
    "### List down cases which were incorrectly tagged by original POS tagger and got corrected by your modifications"
   ]
  },
  {
   "cell_type": "code",
   "execution_count": 63,
   "metadata": {},
   "outputs": [
    {
     "name": "stdout",
     "output_type": "stream",
     "text": [
      "[('Twitter', 'CONJ'), ('is', 'VERB'), ('the', 'DET'), ('best', 'ADJ'), ('networking', 'NOUN'), ('social', 'ADJ'), ('site', 'CONJ'), ('.', '.'), ('Man', 'NOUN'), ('is', 'VERB'), ('a', 'DET'), ('social', 'ADJ'), ('animal', 'CONJ'), ('.', '.')]\n"
     ]
    }
   ],
   "source": [
    "## Testing 1\n",
    "sentence_test = 'Twitter is the best networking social site. Man is a social animal.'\n",
    "words = word_tokenize(sentence_test)\n",
    "tagged_seq = Viterbi(words)\n",
    "print(tagged_seq)"
   ]
  },
  {
   "cell_type": "code",
   "execution_count": 64,
   "metadata": {},
   "outputs": [
    {
     "name": "stdout",
     "output_type": "stream",
     "text": [
      "[('Twitter', 'NOUN'), ('is', 'VERB'), ('the', 'DET'), ('best', 'ADJ'), ('networking', 'NOUN'), ('social', 'ADJ'), ('site', 'NOUN'), ('.', '.'), ('Man', 'NOUN'), ('is', 'VERB'), ('a', 'DET'), ('social', 'ADJ'), ('animal', 'NOUN'), ('.', '.')]\n"
     ]
    }
   ],
   "source": [
    "tagged_seq_modified = new_Viterbi(words)\n",
    "print(tagged_seq_modified)"
   ]
  },
  {
   "cell_type": "code",
   "execution_count": 61,
   "metadata": {},
   "outputs": [
    {
     "name": "stdout",
     "output_type": "stream",
     "text": [
      "[('Google', 'CONJ'), ('and', 'CONJ'), ('Twitter', 'CONJ'), ('made', 'VERB'), ('a', 'DET'), ('deal', 'NOUN'), ('in', 'ADP'), ('2015', 'CONJ'), ('that', 'DET'), ('gave', 'VERB'), ('Google', 'CONJ'), ('access', 'NOUN'), ('to', 'PRT'), ('Twitter', 'CONJ'), (\"'s\", 'VERB'), ('firehose', 'CONJ'), ('.', '.')]\n"
     ]
    }
   ],
   "source": [
    "#Testing 2\n",
    "\n",
    "sentence_test_2 = 'Google and Twitter made a deal in 2015 that gave Google access to Twitter\\'s firehose.'\n",
    "words2 = word_tokenize(sentence_test_2)\n",
    "tagged_seq2 = Viterbi(words2)\n",
    "print(tagged_seq2)"
   ]
  },
  {
   "cell_type": "code",
   "execution_count": 62,
   "metadata": {},
   "outputs": [
    {
     "name": "stdout",
     "output_type": "stream",
     "text": [
      "[('Google', 'NOUN'), ('and', 'CONJ'), ('Twitter', 'NOUN'), ('made', 'VERB'), ('a', 'DET'), ('deal', 'NOUN'), ('in', 'ADP'), ('2015', 'NUM'), ('that', 'ADP'), ('gave', 'VERB'), ('Google', 'NOUN'), ('access', 'NOUN'), ('to', 'PRT'), ('Twitter', 'NOUN'), (\"'s\", 'PRT'), ('firehose', 'NOUN'), ('.', '.')]\n"
     ]
    }
   ],
   "source": [
    "tagged_seq_modified_2 = new_Viterbi(words2)\n",
    "print(tagged_seq_modified_2)"
   ]
  },
  {
   "cell_type": "code",
   "execution_count": 65,
   "metadata": {},
   "outputs": [
    {
     "name": "stdout",
     "output_type": "stream",
     "text": [
      "[('Data', 'NOUN'), ('science', 'NOUN'), ('is', 'VERB'), ('an', 'DET'), ('emerging', 'VERB'), ('field', 'NOUN'), ('.', '.'), ('Data', 'NOUN'), ('science', 'NOUN'), ('jobs', 'NOUN'), ('are', 'VERB'), ('high', 'ADJ'), ('in', 'ADP'), ('demand', 'NOUN'), ('.', '.')]\n"
     ]
    }
   ],
   "source": [
    "#Testing 3\n",
    "\n",
    "sentence_test_3 = 'Data science is an emerging field. Data science jobs are high in demand.'\n",
    "words3 = word_tokenize(sentence_test_3)\n",
    "tagged_seq3 = Viterbi(words3)\n",
    "print(tagged_seq3)"
   ]
  },
  {
   "cell_type": "code",
   "execution_count": 66,
   "metadata": {},
   "outputs": [
    {
     "name": "stdout",
     "output_type": "stream",
     "text": [
      "[('Data', 'NOUN'), ('science', 'NOUN'), ('is', 'VERB'), ('an', 'DET'), ('emerging', 'VERB'), ('field', 'NOUN'), ('.', '.'), ('Data', 'NOUN'), ('science', 'NOUN'), ('jobs', 'NOUN'), ('are', 'VERB'), ('high', 'ADJ'), ('in', 'ADP'), ('demand', 'NOUN'), ('.', '.')]\n"
     ]
    }
   ],
   "source": [
    "tagged_seq_modified_3 = new_Viterbi(words3)\n",
    "print(tagged_seq_modified_3)"
   ]
  },
  {
   "cell_type": "markdown",
   "metadata": {},
   "source": [
    "#### In the First 2 Tests, we can see for example `Twitter` ,  `Google` and a few more got incorrectly tagged in the initial Virerbi Model but got corrected when we used the `new_Viterbi` model or the  `Trigram Viterbi modified`  model. \n",
    "\n",
    "#### The third test however got correctly tagged on both the models which when given the accuracy says  `initial Viterbi had 90% accuracy`  makes sense. "
   ]
  }
 ],
 "metadata": {
  "kernelspec": {
   "display_name": "Python 3",
   "language": "python",
   "name": "python3"
  },
  "language_info": {
   "codemirror_mode": {
    "name": "ipython",
    "version": 3
   },
   "file_extension": ".py",
   "mimetype": "text/x-python",
   "name": "python",
   "nbconvert_exporter": "python",
   "pygments_lexer": "ipython3",
   "version": "3.8.5"
  }
 },
 "nbformat": 4,
 "nbformat_minor": 2
}
